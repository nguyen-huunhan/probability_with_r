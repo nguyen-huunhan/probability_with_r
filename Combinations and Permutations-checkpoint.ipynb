{
 "cells": [
  {
   "cell_type": "markdown",
   "id": "644531b8",
   "metadata": {},
   "source": [
    "In this section, we will discuss how to compute the combinations and permutations using R. Consider the two following methods:\n",
    "1. Generate the sample space containing all combinations by using $\\textbf{paste}()$ and $\\textbf{expand.grid}()$. Then compute the answer by using $\\textbf{mean}()$.\n",
    "2. Using functions $\\textbf{combinations}(n,r)$ and $\\textbf{permutations}(n,r)$ from the $\\textbf{gtools}$ package."
   ]
  },
  {
   "cell_type": "markdown",
   "id": "c4b2f0bf",
   "metadata": {},
   "source": [
    "## 1. Use $\\textbf{paste}()$ and $\\textbf{expand.grid}()$ to generate the sample space."
   ]
  },
  {
   "cell_type": "markdown",
   "id": "8351e6f4",
   "metadata": {},
   "source": [
    "Let introduce the function $\\textbf{paste}()$ to create strings by joining smaller strings. "
   ]
  },
  {
   "cell_type": "code",
   "execution_count": 38,
   "id": "b9861c9d",
   "metadata": {},
   "outputs": [
    {
     "data": {
      "text/html": [
       "'Three Hearts'"
      ],
      "text/latex": [
       "'Three Hearts'"
      ],
      "text/markdown": [
       "'Three Hearts'"
      ],
      "text/plain": [
       "[1] \"Three Hearts\""
      ]
     },
     "metadata": {},
     "output_type": "display_data"
    },
    {
     "data": {
      "text/html": [
       "<style>\n",
       ".list-inline {list-style: none; margin:0; padding: 0}\n",
       ".list-inline>li {display: inline-block}\n",
       ".list-inline>li:not(:last-child)::after {content: \"\\00b7\"; padding: 0 .5ex}\n",
       "</style>\n",
       "<ol class=list-inline><li>'a 1'</li><li>'b 2'</li><li>'c 3'</li><li>'d 4'</li><li>'e 5'</li></ol>\n"
      ],
      "text/latex": [
       "\\begin{enumerate*}\n",
       "\\item 'a 1'\n",
       "\\item 'b 2'\n",
       "\\item 'c 3'\n",
       "\\item 'd 4'\n",
       "\\item 'e 5'\n",
       "\\end{enumerate*}\n"
      ],
      "text/markdown": [
       "1. 'a 1'\n",
       "2. 'b 2'\n",
       "3. 'c 3'\n",
       "4. 'd 4'\n",
       "5. 'e 5'\n",
       "\n",
       "\n"
      ],
      "text/plain": [
       "[1] \"a 1\" \"b 2\" \"c 3\" \"d 4\" \"e 5\""
      ]
     },
     "metadata": {},
     "output_type": "display_data"
    }
   ],
   "source": [
    "# joining strings with paste\n",
    "number <- \"Three\"\n",
    "suit <- \"Hearts\"\n",
    "paste(number, suit)\n",
    "\n",
    "# joining vectors element-wise with paste\n",
    "paste(letters[1:5], as.character(1:5))"
   ]
  },
  {
   "cell_type": "markdown",
   "id": "d715a7b1",
   "metadata": {},
   "source": [
    "The function $\\textbf{expand.grid}()$ gives us all the combinations of entries of two vectors"
   ]
  },
  {
   "cell_type": "code",
   "execution_count": 39,
   "id": "16d91c69",
   "metadata": {},
   "outputs": [
    {
     "data": {
      "text/html": [
       "<table class=\"dataframe\">\n",
       "<caption>A data.frame: 6 × 2</caption>\n",
       "<thead>\n",
       "\t<tr><th scope=col>pants</th><th scope=col>shirt</th></tr>\n",
       "\t<tr><th scope=col>&lt;fct&gt;</th><th scope=col>&lt;fct&gt;</th></tr>\n",
       "</thead>\n",
       "<tbody>\n",
       "\t<tr><td>blue </td><td>white</td></tr>\n",
       "\t<tr><td>black</td><td>white</td></tr>\n",
       "\t<tr><td>blue </td><td>grey </td></tr>\n",
       "\t<tr><td>black</td><td>grey </td></tr>\n",
       "\t<tr><td>blue </td><td>plaid</td></tr>\n",
       "\t<tr><td>black</td><td>plaid</td></tr>\n",
       "</tbody>\n",
       "</table>\n"
      ],
      "text/latex": [
       "A data.frame: 6 × 2\n",
       "\\begin{tabular}{ll}\n",
       " pants & shirt\\\\\n",
       " <fct> & <fct>\\\\\n",
       "\\hline\n",
       "\t blue  & white\\\\\n",
       "\t black & white\\\\\n",
       "\t blue  & grey \\\\\n",
       "\t black & grey \\\\\n",
       "\t blue  & plaid\\\\\n",
       "\t black & plaid\\\\\n",
       "\\end{tabular}\n"
      ],
      "text/markdown": [
       "\n",
       "A data.frame: 6 × 2\n",
       "\n",
       "| pants &lt;fct&gt; | shirt &lt;fct&gt; |\n",
       "|---|---|\n",
       "| blue  | white |\n",
       "| black | white |\n",
       "| blue  | grey  |\n",
       "| black | grey  |\n",
       "| blue  | plaid |\n",
       "| black | plaid |\n",
       "\n"
      ],
      "text/plain": [
       "  pants shirt\n",
       "1 blue  white\n",
       "2 black white\n",
       "3 blue  grey \n",
       "4 black grey \n",
       "5 blue  plaid\n",
       "6 black plaid"
      ]
     },
     "metadata": {},
     "output_type": "display_data"
    }
   ],
   "source": [
    "expand.grid(pants = c(\"blue\", \"black\"), shirt = c(\"white\", \"grey\", \"plaid\"))"
   ]
  },
  {
   "cell_type": "markdown",
   "id": "20fa3f1b",
   "metadata": {},
   "source": [
    "Now let consider the following example. We generate a deck of cards and compute the probability of drawing a King first."
   ]
  },
  {
   "cell_type": "code",
   "execution_count": 40,
   "id": "fa358aca",
   "metadata": {},
   "outputs": [
    {
     "data": {
      "text/html": [
       "0.0769230769230769"
      ],
      "text/latex": [
       "0.0769230769230769"
      ],
      "text/markdown": [
       "0.0769230769230769"
      ],
      "text/plain": [
       "[1] 0.07692308"
      ]
     },
     "metadata": {},
     "output_type": "display_data"
    }
   ],
   "source": [
    "#generate a deck of cards\n",
    "suits <- c(\"Diamonds\", \"Clubs\", \"Hearts\", \"Spades\")\n",
    "numbers <- c(\"Ace\", \"Deuce\", \"Three\", \"Four\", \"Five\", \"Six\", \"Seven\", \"Eight\", \"Nine\", \"Ten\", \"Jack\", \"Queen\", \"King\")\n",
    "deck <- expand.grid(number = numbers, suit = suits)\n",
    "deck <- paste(deck$number, deck$suit)\n",
    "\n",
    "# probability of drawing a king\n",
    "kings <- paste(\"King\", suits)\n",
    "mean(deck %in% kings)"
   ]
  },
  {
   "cell_type": "markdown",
   "id": "b795c581",
   "metadata": {},
   "source": [
    "To calculate the probability by using $\\textbf{paste}()$ and $\\textbf{expand.grid}()$, we need to define the two following terms:\n",
    "1. the sample space generated by $\\textbf{paste}()$ and $\\textbf{expand.grid}()$,\n",
    "2. the event. Note that the event must be a sub-string of the sample space in order to use the function $\\textbf{mean}()$ for computing the probability."
   ]
  },
  {
   "cell_type": "markdown",
   "id": "6f2a2eb9",
   "metadata": {},
   "source": [
    "## 2. The gtools package"
   ]
  },
  {
   "cell_type": "markdown",
   "id": "60604cb1",
   "metadata": {},
   "source": [
    "$\\textbf{permutations}(n,r)$ from the gtools package lists the different ways that r items can be selected from a set of n options when order matters."
   ]
  },
  {
   "cell_type": "code",
   "execution_count": 41,
   "id": "5692d6fa",
   "metadata": {},
   "outputs": [
    {
     "data": {
      "text/html": [
       "<table class=\"dataframe\">\n",
       "<caption>A matrix: 6 × 2 of type int</caption>\n",
       "<tbody>\n",
       "\t<tr><td>1</td><td>2</td></tr>\n",
       "\t<tr><td>1</td><td>3</td></tr>\n",
       "\t<tr><td>2</td><td>1</td></tr>\n",
       "\t<tr><td>2</td><td>3</td></tr>\n",
       "\t<tr><td>3</td><td>1</td></tr>\n",
       "\t<tr><td>3</td><td>2</td></tr>\n",
       "</tbody>\n",
       "</table>\n"
      ],
      "text/latex": [
       "A matrix: 6 × 2 of type int\n",
       "\\begin{tabular}{ll}\n",
       "\t 1 & 2\\\\\n",
       "\t 1 & 3\\\\\n",
       "\t 2 & 1\\\\\n",
       "\t 2 & 3\\\\\n",
       "\t 3 & 1\\\\\n",
       "\t 3 & 2\\\\\n",
       "\\end{tabular}\n"
      ],
      "text/markdown": [
       "\n",
       "A matrix: 6 × 2 of type int\n",
       "\n",
       "| 1 | 2 |\n",
       "| 1 | 3 |\n",
       "| 2 | 1 |\n",
       "| 2 | 3 |\n",
       "| 3 | 1 |\n",
       "| 3 | 2 |\n",
       "\n"
      ],
      "text/plain": [
       "     [,1] [,2]\n",
       "[1,] 1    2   \n",
       "[2,] 1    3   \n",
       "[3,] 2    1   \n",
       "[4,] 2    3   \n",
       "[5,] 3    1   \n",
       "[6,] 3    2   "
      ]
     },
     "metadata": {},
     "output_type": "display_data"
    }
   ],
   "source": [
    "library(gtools)\n",
    "permutations(3,2)    # ways to choose 2 numbers in order from 1:3"
   ]
  },
  {
   "cell_type": "markdown",
   "id": "628cef88",
   "metadata": {},
   "source": [
    "Notice that the order matters here: $(3,1)$ is different than $(1,3)$. Also, note that $(1,1)$, $(2,2)$ and $(3,3)$ do not appear because once we pick a number, it can’t appear again."
   ]
  },
  {
   "cell_type": "markdown",
   "id": "963f99c1",
   "metadata": {},
   "source": [
    "Optionally, we can add a vector. If you want to see five random seven digit phone numbers out of all possible phone numbers (without repeats), you can type the following code. Note that instead of using the numbers $1$ through $10$, the default, it uses what we provided through the argument $\\mathrm{v:}$ the digits $0$ through $9$."
   ]
  },
  {
   "cell_type": "code",
   "execution_count": 42,
   "id": "207efcad",
   "metadata": {},
   "outputs": [
    {
     "data": {
      "text/html": [
       "<table class=\"dataframe\">\n",
       "<caption>A matrix: 5 × 7 of type int</caption>\n",
       "<tbody>\n",
       "\t<tr><td>6</td><td>3</td><td>4</td><td>1</td><td>2</td><td>5</td><td>7</td></tr>\n",
       "\t<tr><td>7</td><td>4</td><td>8</td><td>1</td><td>0</td><td>9</td><td>3</td></tr>\n",
       "\t<tr><td>5</td><td>0</td><td>6</td><td>9</td><td>2</td><td>4</td><td>8</td></tr>\n",
       "\t<tr><td>2</td><td>8</td><td>1</td><td>5</td><td>6</td><td>0</td><td>7</td></tr>\n",
       "\t<tr><td>1</td><td>5</td><td>3</td><td>0</td><td>2</td><td>4</td><td>8</td></tr>\n",
       "</tbody>\n",
       "</table>\n"
      ],
      "text/latex": [
       "A matrix: 5 × 7 of type int\n",
       "\\begin{tabular}{lllllll}\n",
       "\t 6 & 3 & 4 & 1 & 2 & 5 & 7\\\\\n",
       "\t 7 & 4 & 8 & 1 & 0 & 9 & 3\\\\\n",
       "\t 5 & 0 & 6 & 9 & 2 & 4 & 8\\\\\n",
       "\t 2 & 8 & 1 & 5 & 6 & 0 & 7\\\\\n",
       "\t 1 & 5 & 3 & 0 & 2 & 4 & 8\\\\\n",
       "\\end{tabular}\n"
      ],
      "text/markdown": [
       "\n",
       "A matrix: 5 × 7 of type int\n",
       "\n",
       "| 6 | 3 | 4 | 1 | 2 | 5 | 7 |\n",
       "| 7 | 4 | 8 | 1 | 0 | 9 | 3 |\n",
       "| 5 | 0 | 6 | 9 | 2 | 4 | 8 |\n",
       "| 2 | 8 | 1 | 5 | 6 | 0 | 7 |\n",
       "| 1 | 5 | 3 | 0 | 2 | 4 | 8 |\n",
       "\n"
      ],
      "text/plain": [
       "     [,1] [,2] [,3] [,4] [,5] [,6] [,7]\n",
       "[1,] 6    3    4    1    2    5    7   \n",
       "[2,] 7    4    8    1    0    9    3   \n",
       "[3,] 5    0    6    9    2    4    8   \n",
       "[4,] 2    8    1    5    6    0    7   \n",
       "[5,] 1    5    3    0    2    4    8   "
      ]
     },
     "metadata": {},
     "output_type": "display_data"
    }
   ],
   "source": [
    "all_phone_numbers <- permutations(10, 7, v = 0:9) #generate the set of seven phone numbers\n",
    "n <- nrow(all_phone_numbers) #the set of indexes of all phone numbers\n",
    "index <- sample(n, 5) #randomly pick 5 indexes from the set of indexes of all phone numbers\n",
    "all_phone_numbers[index,] #the outcome of 5 random phone numbers"
   ]
  },
  {
   "cell_type": "markdown",
   "id": "3d3f76ce",
   "metadata": {},
   "source": [
    "$\\textbf{Example 1:}$ Let consider the experiment in which we draw a second card subject to the condition that a first King has been drawn. Compute the probability of drawing a second King."
   ]
  },
  {
   "cell_type": "code",
   "execution_count": 43,
   "id": "5e600301",
   "metadata": {},
   "outputs": [
    {
     "data": {
      "text/html": [
       "204"
      ],
      "text/latex": [
       "204"
      ],
      "text/markdown": [
       "204"
      ],
      "text/plain": [
       "[1] 204"
      ]
     },
     "metadata": {},
     "output_type": "display_data"
    },
    {
     "data": {
      "text/html": [
       "0.0588235294117647"
      ],
      "text/latex": [
       "0.0588235294117647"
      ],
      "text/markdown": [
       "0.0588235294117647"
      ],
      "text/plain": [
       "[1] 0.05882353"
      ]
     },
     "metadata": {},
     "output_type": "display_data"
    }
   ],
   "source": [
    "hands <- permutations(52,2, v = deck)\n",
    "first_card <- hands[,1] #get the first card from a matrix\n",
    "second_card <- hands[,2] #get the second card from a matrix\n",
    "\n",
    "sum(first_card %in% kings)\n",
    "sum(first_card %in% kings & second_card %in% kings) / sum(first_card %in% kings)"
   ]
  },
  {
   "cell_type": "markdown",
   "id": "13581803",
   "metadata": {},
   "source": [
    "An equivalent code computing the conditional probability which use the function $\\textbf{mean}()$ instead of $\\textbf{sum}()$ is an $\\text{R}$ version of the conditional probability formula\n",
    "$$\\mathbb{P}(B|A) = \\dfrac{\\mathbb{P}(B \\text{ and } A)}{\\mathbb{P}(A)} $$"
   ]
  },
  {
   "cell_type": "code",
   "execution_count": 44,
   "id": "593968b4",
   "metadata": {},
   "outputs": [
    {
     "data": {
      "text/html": [
       "0.0588235294117647"
      ],
      "text/latex": [
       "0.0588235294117647"
      ],
      "text/markdown": [
       "0.0588235294117647"
      ],
      "text/plain": [
       "[1] 0.05882353"
      ]
     },
     "metadata": {},
     "output_type": "display_data"
    }
   ],
   "source": [
    "mean(first_card %in% kings & second_card %in% kings) /\n",
    "mean(first_card %in% kings)"
   ]
  },
  {
   "cell_type": "markdown",
   "id": "8eaabaec",
   "metadata": {},
   "source": [
    "$\\textbf{Example 2:}$ Probability of a natural 21 in blackjack"
   ]
  },
  {
   "cell_type": "code",
   "execution_count": 45,
   "id": "b1fd8af4",
   "metadata": {},
   "outputs": [
    {
     "data": {
      "text/html": [
       "<table class=\"dataframe\">\n",
       "<caption>A matrix: 6 × 2 of type int</caption>\n",
       "<tbody>\n",
       "\t<tr><td>1</td><td>2</td></tr>\n",
       "\t<tr><td>1</td><td>3</td></tr>\n",
       "\t<tr><td>2</td><td>1</td></tr>\n",
       "\t<tr><td>2</td><td>3</td></tr>\n",
       "\t<tr><td>3</td><td>1</td></tr>\n",
       "\t<tr><td>3</td><td>2</td></tr>\n",
       "</tbody>\n",
       "</table>\n"
      ],
      "text/latex": [
       "A matrix: 6 × 2 of type int\n",
       "\\begin{tabular}{ll}\n",
       "\t 1 & 2\\\\\n",
       "\t 1 & 3\\\\\n",
       "\t 2 & 1\\\\\n",
       "\t 2 & 3\\\\\n",
       "\t 3 & 1\\\\\n",
       "\t 3 & 2\\\\\n",
       "\\end{tabular}\n"
      ],
      "text/markdown": [
       "\n",
       "A matrix: 6 × 2 of type int\n",
       "\n",
       "| 1 | 2 |\n",
       "| 1 | 3 |\n",
       "| 2 | 1 |\n",
       "| 2 | 3 |\n",
       "| 3 | 1 |\n",
       "| 3 | 2 |\n",
       "\n"
      ],
      "text/plain": [
       "     [,1] [,2]\n",
       "[1,] 1    2   \n",
       "[2,] 1    3   \n",
       "[3,] 2    1   \n",
       "[4,] 2    3   \n",
       "[5,] 3    1   \n",
       "[6,] 3    2   "
      ]
     },
     "metadata": {},
     "output_type": "display_data"
    },
    {
     "data": {
      "text/html": [
       "<table class=\"dataframe\">\n",
       "<caption>A matrix: 3 × 2 of type int</caption>\n",
       "<tbody>\n",
       "\t<tr><td>1</td><td>2</td></tr>\n",
       "\t<tr><td>1</td><td>3</td></tr>\n",
       "\t<tr><td>2</td><td>3</td></tr>\n",
       "</tbody>\n",
       "</table>\n"
      ],
      "text/latex": [
       "A matrix: 3 × 2 of type int\n",
       "\\begin{tabular}{ll}\n",
       "\t 1 & 2\\\\\n",
       "\t 1 & 3\\\\\n",
       "\t 2 & 3\\\\\n",
       "\\end{tabular}\n"
      ],
      "text/markdown": [
       "\n",
       "A matrix: 3 × 2 of type int\n",
       "\n",
       "| 1 | 2 |\n",
       "| 1 | 3 |\n",
       "| 2 | 3 |\n",
       "\n"
      ],
      "text/plain": [
       "     [,1] [,2]\n",
       "[1,] 1    2   \n",
       "[2,] 1    3   \n",
       "[3,] 2    3   "
      ]
     },
     "metadata": {},
     "output_type": "display_data"
    }
   ],
   "source": [
    "permutations(3,2)    # order matters\n",
    "combinations(3,2)    # order does not matter"
   ]
  },
  {
   "cell_type": "code",
   "execution_count": 46,
   "id": "5b7ee596",
   "metadata": {},
   "outputs": [
    {
     "data": {
      "text/html": [
       "0.0482654600301659"
      ],
      "text/latex": [
       "0.0482654600301659"
      ],
      "text/markdown": [
       "0.0482654600301659"
      ],
      "text/plain": [
       "[1] 0.04826546"
      ]
     },
     "metadata": {},
     "output_type": "display_data"
    },
    {
     "data": {
      "text/html": [
       "0.0482654600301659"
      ],
      "text/latex": [
       "0.0482654600301659"
      ],
      "text/markdown": [
       "0.0482654600301659"
      ],
      "text/plain": [
       "[1] 0.04826546"
      ]
     },
     "metadata": {},
     "output_type": "display_data"
    }
   ],
   "source": [
    "aces <- paste(\"Ace\", suits)\n",
    "facecard <- c(\"King\", \"Queen\", \"Jack\", \"Ten\")\n",
    "facecard <- expand.grid(number = facecard, suit = suits)\n",
    "facecard <- paste(facecard$number, facecard$suit)\n",
    "\n",
    "hands <- combinations(52, 2, v=deck) # all possible hands\n",
    "\n",
    "# probability of a natural 21 given that the ace is listed first in `combinations`\n",
    "mean(hands[,1] %in% aces & hands[,2] %in% facecard)\n",
    "\n",
    "# probability of a natural 21 checking for both ace first and ace second\n",
    "mean((hands[,1] %in% aces & hands[,2] %in% facecard)|(hands[,2] %in% aces & hands[,1] %in% facecard))"
   ]
  },
  {
   "cell_type": "markdown",
   "id": "a6325b07",
   "metadata": {},
   "source": [
    "$\\textbf{Example 3}$: The Monte-Carlo simulation of natural 21 in blackjack."
   ]
  },
  {
   "cell_type": "code",
   "execution_count": 47,
   "id": "3fcfc050",
   "metadata": {},
   "outputs": [
    {
     "data": {
      "text/html": [
       "<style>\n",
       ".list-inline {list-style: none; margin:0; padding: 0}\n",
       ".list-inline>li {display: inline-block}\n",
       ".list-inline>li:not(:last-child)::after {content: \"\\00b7\"; padding: 0 .5ex}\n",
       "</style>\n",
       "<ol class=list-inline><li>'Ace Hearts'</li><li>'Nine Spades'</li></ol>\n"
      ],
      "text/latex": [
       "\\begin{enumerate*}\n",
       "\\item 'Ace Hearts'\n",
       "\\item 'Nine Spades'\n",
       "\\end{enumerate*}\n"
      ],
      "text/markdown": [
       "1. 'Ace Hearts'\n",
       "2. 'Nine Spades'\n",
       "\n",
       "\n"
      ],
      "text/plain": [
       "[1] \"Ace Hearts\"  \"Nine Spades\""
      ]
     },
     "metadata": {},
     "output_type": "display_data"
    },
    {
     "data": {
      "text/html": [
       "0.0509"
      ],
      "text/latex": [
       "0.0509"
      ],
      "text/markdown": [
       "0.0509"
      ],
      "text/plain": [
       "[1] 0.0509"
      ]
     },
     "metadata": {},
     "output_type": "display_data"
    }
   ],
   "source": [
    "# code for one hand of blackjack\n",
    "hand <- sample(deck, 2)\n",
    "hand\n",
    "\n",
    "# code for B=10,000 hands of blackjack\n",
    "B <- 10000\n",
    "results <- replicate(B, {\n",
    "    hand <- sample(deck, 2)\n",
    "    (hand[1] %in% aces & hand[2] %in% facecard) | (hand[2] %in% aces & hand[1] %in% facecard)\n",
    "})\n",
    "mean(results)"
   ]
  },
  {
   "cell_type": "markdown",
   "id": "bbda0b2d",
   "metadata": {},
   "source": [
    "## 3. Case study: The birthday problem"
   ]
  },
  {
   "cell_type": "markdown",
   "id": "733828e5",
   "metadata": {},
   "source": [
    "Suppose you are in a classroom with 50 people. If we assume this is a randomly selected group of 50 people, what is the chance that at least two people have the same birthday? "
   ]
  },
  {
   "cell_type": "markdown",
   "id": "ca9b83fc",
   "metadata": {},
   "source": [
    "We can compute the probability of shared birthdays in a group of people by modeling birthdays as random draws from the numbers 1 through 365. We can then use this sampling model of birthdays to run a Monte Carlo simulation to estimate the probability of shared birthdays. For simplicity, we assume nobody was born on February 29. This actually doesn’t change the answer much."
   ]
  },
  {
   "cell_type": "markdown",
   "id": "a4867556",
   "metadata": {},
   "source": [
    "$\\textbf{Checking repeated elements}$. To check if in this particular set of 50 people we have at least two with the same birthday, we can use the function $\\textbf{duplicated}()$ that takes a vector and returns a vector of the same length with $\\mathrm{TRUE}$ for any elements that have appeared previously in that vector."
   ]
  },
  {
   "cell_type": "code",
   "execution_count": 48,
   "id": "cd0762da",
   "metadata": {},
   "outputs": [
    {
     "data": {
      "text/html": [
       "<style>\n",
       ".list-inline {list-style: none; margin:0; padding: 0}\n",
       ".list-inline>li {display: inline-block}\n",
       ".list-inline>li:not(:last-child)::after {content: \"\\00b7\"; padding: 0 .5ex}\n",
       "</style>\n",
       "<ol class=list-inline><li>FALSE</li><li>FALSE</li><li>FALSE</li><li>TRUE</li><li>FALSE</li><li>TRUE</li><li>FALSE</li></ol>\n"
      ],
      "text/latex": [
       "\\begin{enumerate*}\n",
       "\\item FALSE\n",
       "\\item FALSE\n",
       "\\item FALSE\n",
       "\\item TRUE\n",
       "\\item FALSE\n",
       "\\item TRUE\n",
       "\\item FALSE\n",
       "\\end{enumerate*}\n"
      ],
      "text/markdown": [
       "1. FALSE\n",
       "2. FALSE\n",
       "3. FALSE\n",
       "4. TRUE\n",
       "5. FALSE\n",
       "6. TRUE\n",
       "7. FALSE\n",
       "\n",
       "\n"
      ],
      "text/plain": [
       "[1] FALSE FALSE FALSE  TRUE FALSE  TRUE FALSE"
      ]
     },
     "metadata": {},
     "output_type": "display_data"
    }
   ],
   "source": [
    "duplicated(c(1,2,3,1,4,3,5))"
   ]
  },
  {
   "cell_type": "markdown",
   "id": "6598283d",
   "metadata": {},
   "source": [
    "$\\textbf{The Monte-Carlo Simulation}$. To estimate the probability of a shared birthday in the group, we repeat this experiment by sampling sets of 50 birthdays over and over:"
   ]
  },
  {
   "cell_type": "code",
   "execution_count": 49,
   "id": "62b4f06e",
   "metadata": {},
   "outputs": [
    {
     "data": {
      "text/html": [
       "TRUE"
      ],
      "text/latex": [
       "TRUE"
      ],
      "text/markdown": [
       "TRUE"
      ],
      "text/plain": [
       "[1] TRUE"
      ]
     },
     "metadata": {},
     "output_type": "display_data"
    },
    {
     "data": {
      "text/html": [
       "0.9696"
      ],
      "text/latex": [
       "0.9696"
      ],
      "text/markdown": [
       "0.9696"
      ],
      "text/plain": [
       "[1] 0.9696"
      ]
     },
     "metadata": {},
     "output_type": "display_data"
    }
   ],
   "source": [
    "# checking for duplicated bdays in one 50 person group\n",
    "n <- 50\n",
    "bdays <- sample(1:365, n, replace = TRUE)    # generate n random birthdays\n",
    "any(duplicated(bdays))    # check if any birthdays are duplicated\n",
    "\n",
    "# Monte Carlo simulation with B=10000 replicates\n",
    "B <- 10000\n",
    "results <- replicate(B, {    # returns vector of B logical values\n",
    "    bdays <- sample(1:365, n, replace = TRUE)\n",
    "    any(duplicated(bdays))\n",
    "})\n",
    "mean(results)    # calculates proportion of groups with duplicated bdays"
   ]
  },
  {
   "cell_type": "markdown",
   "id": "3f79b62f",
   "metadata": {},
   "source": [
    "### The Function for birthday problem Monte-Carlo Simulations"
   ]
  },
  {
   "cell_type": "code",
   "execution_count": 50,
   "id": "95e7225e",
   "metadata": {},
   "outputs": [],
   "source": [
    "# function to calculate probability of shared bdays across n people\n",
    "compute_prob <- function(n, B = 10000) {\n",
    "\tsame_day <- replicate(B, {\n",
    "    \tbdays <- sample(1:365, n, replace = TRUE)\n",
    "        any(duplicated(bdays))\n",
    "    })\n",
    "    mean(same_day)\n",
    "}\n",
    "\n",
    "n <- seq(1, 60)"
   ]
  },
  {
   "cell_type": "markdown",
   "id": "b505f329",
   "metadata": {},
   "source": [
    "Some functions automatically apply element-wise to vectors, such as $\\text{sqrt}()$ and $*$. However, other functions do not operate element-wise by default. This includes functions we define ourselves."
   ]
  },
  {
   "cell_type": "code",
   "execution_count": 51,
   "id": "08eeb84a",
   "metadata": {},
   "outputs": [
    {
     "data": {
      "text/html": [
       "<style>\n",
       ".list-inline {list-style: none; margin:0; padding: 0}\n",
       ".list-inline>li {display: inline-block}\n",
       ".list-inline>li:not(:last-child)::after {content: \"\\00b7\"; padding: 0 .5ex}\n",
       "</style>\n",
       "<ol class=list-inline><li>1</li><li>1.4142135623731</li><li>1.73205080756888</li><li>2</li><li>2.23606797749979</li><li>2.44948974278318</li><li>2.64575131106459</li><li>2.82842712474619</li><li>3</li><li>3.16227766016838</li></ol>\n"
      ],
      "text/latex": [
       "\\begin{enumerate*}\n",
       "\\item 1\n",
       "\\item 1.4142135623731\n",
       "\\item 1.73205080756888\n",
       "\\item 2\n",
       "\\item 2.23606797749979\n",
       "\\item 2.44948974278318\n",
       "\\item 2.64575131106459\n",
       "\\item 2.82842712474619\n",
       "\\item 3\n",
       "\\item 3.16227766016838\n",
       "\\end{enumerate*}\n"
      ],
      "text/markdown": [
       "1. 1\n",
       "2. 1.4142135623731\n",
       "3. 1.73205080756888\n",
       "4. 2\n",
       "5. 2.23606797749979\n",
       "6. 2.44948974278318\n",
       "7. 2.64575131106459\n",
       "8. 2.82842712474619\n",
       "9. 3\n",
       "10. 3.16227766016838\n",
       "\n",
       "\n"
      ],
      "text/plain": [
       " [1] 1.000000 1.414214 1.732051 2.000000 2.236068 2.449490 2.645751 2.828427\n",
       " [9] 3.000000 3.162278"
      ]
     },
     "metadata": {},
     "output_type": "display_data"
    },
    {
     "data": {
      "text/html": [
       "<style>\n",
       ".list-inline {list-style: none; margin:0; padding: 0}\n",
       ".list-inline>li {display: inline-block}\n",
       ".list-inline>li:not(:last-child)::after {content: \"\\00b7\"; padding: 0 .5ex}\n",
       "</style>\n",
       "<ol class=list-inline><li>1</li><li>4</li><li>9</li><li>16</li><li>25</li><li>36</li><li>49</li><li>64</li><li>81</li><li>100</li></ol>\n"
      ],
      "text/latex": [
       "\\begin{enumerate*}\n",
       "\\item 1\n",
       "\\item 4\n",
       "\\item 9\n",
       "\\item 16\n",
       "\\item 25\n",
       "\\item 36\n",
       "\\item 49\n",
       "\\item 64\n",
       "\\item 81\n",
       "\\item 100\n",
       "\\end{enumerate*}\n"
      ],
      "text/markdown": [
       "1. 1\n",
       "2. 4\n",
       "3. 9\n",
       "4. 16\n",
       "5. 25\n",
       "6. 36\n",
       "7. 49\n",
       "8. 64\n",
       "9. 81\n",
       "10. 100\n",
       "\n",
       "\n"
      ],
      "text/plain": [
       " [1]   1   4   9  16  25  36  49  64  81 100"
      ]
     },
     "metadata": {},
     "output_type": "display_data"
    },
    {
     "data": {
      "text/html": [
       "0"
      ],
      "text/latex": [
       "0"
      ],
      "text/markdown": [
       "0"
      ],
      "text/plain": [
       "[1] 0"
      ]
     },
     "metadata": {},
     "output_type": "display_data"
    }
   ],
   "source": [
    "x <- 1:10\n",
    "sqrt(x)    # sqrt operates on each element of the vector\n",
    "\n",
    "y <- 1:10\n",
    "x*y    # * operates element-wise on both vectors\n",
    "\n",
    "compute_prob(n)    # does not iterate over the vector n without sapply"
   ]
  },
  {
   "cell_type": "markdown",
   "id": "af7e498a",
   "metadata": {},
   "source": [
    "We can use loop to apply this function to each value in $n$ but loops are rarely prefered approach in $\\mathrm{R}$. The function $\\textbf{sapply}(x, f)$ allows any other function $f$ to be applied element-wise to the vector $x$."
   ]
  },
  {
   "cell_type": "code",
   "execution_count": 52,
   "id": "094bb21f",
   "metadata": {},
   "outputs": [
    {
     "data": {
      "text/html": [
       "<style>\n",
       ".list-inline {list-style: none; margin:0; padding: 0}\n",
       ".list-inline>li {display: inline-block}\n",
       ".list-inline>li:not(:last-child)::after {content: \"\\00b7\"; padding: 0 .5ex}\n",
       "</style>\n",
       "<ol class=list-inline><li>1</li><li>1.4142135623731</li><li>1.73205080756888</li><li>2</li><li>2.23606797749979</li><li>2.44948974278318</li><li>2.64575131106459</li><li>2.82842712474619</li><li>3</li><li>3.16227766016838</li></ol>\n"
      ],
      "text/latex": [
       "\\begin{enumerate*}\n",
       "\\item 1\n",
       "\\item 1.4142135623731\n",
       "\\item 1.73205080756888\n",
       "\\item 2\n",
       "\\item 2.23606797749979\n",
       "\\item 2.44948974278318\n",
       "\\item 2.64575131106459\n",
       "\\item 2.82842712474619\n",
       "\\item 3\n",
       "\\item 3.16227766016838\n",
       "\\end{enumerate*}\n"
      ],
      "text/markdown": [
       "1. 1\n",
       "2. 1.4142135623731\n",
       "3. 1.73205080756888\n",
       "4. 2\n",
       "5. 2.23606797749979\n",
       "6. 2.44948974278318\n",
       "7. 2.64575131106459\n",
       "8. 2.82842712474619\n",
       "9. 3\n",
       "10. 3.16227766016838\n",
       "\n",
       "\n"
      ],
      "text/plain": [
       " [1] 1.000000 1.414214 1.732051 2.000000 2.236068 2.449490 2.645751 2.828427\n",
       " [9] 3.000000 3.162278"
      ]
     },
     "metadata": {},
     "output_type": "display_data"
    },
    {
     "data": {
      "image/png": "[encoded data removed]",
      "text/plain": [
       "plot without title"
      ]
     },
     "metadata": {
      "image/png": {
       "height": 420,
       "width": 420
      }
     },
     "output_type": "display_data"
    }
   ],
   "source": [
    "x <- 1:10\n",
    "sapply(x, sqrt)    # this is equivalent to sqrt(x)\n",
    "\n",
    "prob <- sapply(n, compute_prob)    # element-wise application of compute_prob to n\n",
    "plot(n, prob)"
   ]
  },
  {
   "cell_type": "markdown",
   "id": "527f8058",
   "metadata": {},
   "source": [
    "Let recall the relation between the probability of an event happening and not happening\n",
    "$$\\mathbb{P}(A) = 1 - \\mathbb{P}(\\overline{A}). $$\n",
    "We can compute the probability of shared birthdays mathematically\n",
    "$$\\mathbb{P}(\\text{shared birthdays}) = 1 - \\mathbb{P}(\\text{no shared birthdays}) = 1 - \\left( 1\\times \\dfrac{364}{365} \\times \\ldots \\times \\dfrac{365-n+1}{365} \\right). $$"
   ]
  },
  {
   "cell_type": "code",
   "execution_count": 53,
   "id": "988fb5cf",
   "metadata": {},
   "outputs": [
    {
     "data": {
      "image/png": "[encoded data removed]",
      "text/plain": [
       "plot without title"
      ]
     },
     "metadata": {
      "image/png": {
       "height": 420,
       "width": 420
      }
     },
     "output_type": "display_data"
    }
   ],
   "source": [
    "# function for computing exact probability of shared birthdays for any n\n",
    "exact_prob <- function(n){\n",
    "    prob_unique <- seq(365, 365-n+1)/365   # vector of fractions for mult. rule\n",
    "    1 - prod(prob_unique)    # calculate prob of no shared birthdays and subtract from 1\n",
    "}\n",
    "\n",
    "# applying function element-wise to vector of n values\n",
    "eprob <- sapply(n, exact_prob)\n",
    "\n",
    "# plotting Monte Carlo results and exact probabilities on same graph\n",
    "plot(n, prob)    # plot Monte Carlo results\n",
    "lines(n, eprob, col = \"red\")    # add line for exact prob"
   ]
  },
  {
   "cell_type": "markdown",
   "id": "1f482e53",
   "metadata": {},
   "source": [
    "This plot shows that the Monte Carlo simulation provided a very good estimate of the exact probability. Had it not been possible to compute the exact probabilities, we would have still been able to accurately estimate the probabilities."
   ]
  },
  {
   "cell_type": "markdown",
   "id": "b604ba80",
   "metadata": {},
   "source": [
    "### How many Monte Carlo experiments are enough? "
   ]
  },
  {
   "cell_type": "markdown",
   "id": "4d95dc9e",
   "metadata": {},
   "source": [
    "1. The larger the number of Monte Carlo replicates B, the more accurate the estimate.\n",
    "2. Determining the appropriate size for B can require advanced statistics.\n",
    "3. One practical approach is to try many sizes for B and look for sizes that provide stable estimates."
   ]
  },
  {
   "cell_type": "markdown",
   "id": "e98455ca",
   "metadata": {},
   "source": [
    "This code runs Monte Carlo simulations to estimate the probability of shared birthdays using several B values and plots the results. When B is large enough that the estimated probability stays stable, then we have selected a useful value of B."
   ]
  },
  {
   "cell_type": "code",
   "execution_count": null,
   "id": "68e8f004",
   "metadata": {},
   "outputs": [],
   "source": [
    "B <- 10^seq(1, 5, len = 100)    # defines vector of many B values\n",
    "compute_prob <- function(B, n = 22){    # function to run Monte Carlo simulation with each B\n",
    "\tsame_day <- replicate(B, {\n",
    "    \tbdays <- sample(1:365, n, replace = TRUE)\n",
    "        any(duplicated(bdays))\n",
    "    })\n",
    "    mean(same_day)\n",
    "}\n",
    "\n",
    "prob <- sapply(B, compute_prob)    # apply compute_prob to many values of B\n",
    "plot(log10(B), prob, type = \"l\")    # plot a line graph of estimates "
   ]
  },
  {
   "cell_type": "markdown",
   "id": "7b758a3c",
   "metadata": {},
   "source": [
    "### 4. The Monty Hall problem"
   ]
  },
  {
   "cell_type": "markdown",
   "id": "2a342e9c",
   "metadata": {},
   "source": [
    "In the Monty Hall problem, contestants choose one of three doors that may contain a prize. Then, one of the doors that was not chosen by the contestant and does not contain a prize is revealed. The contestant can then choose whether to stick with the original choice or switch to the remaining unopened door."
   ]
  },
  {
   "cell_type": "markdown",
   "id": "00069c82",
   "metadata": {},
   "source": [
    "Although it may seem intuitively like the contestant has a 1 in 2 chance of winning regardless of whether they stick or switch, Monte Carlo simulations demonstrate that the actual probability of winning is 1 in 3 with the stick strategy and 2 in 3 with the switch strategy."
   ]
  },
  {
   "cell_type": "markdown",
   "id": "3a1291f6",
   "metadata": {},
   "source": [
    "Monte Carlo simulations can be used to simulate random outcomes, which makes them useful when exploring ambiguous or less intuitive problems like the Monty Hall problem."
   ]
  },
  {
   "cell_type": "code",
   "execution_count": null,
   "id": "b11da306",
   "metadata": {},
   "outputs": [],
   "source": [
    "B <- 10000\n",
    "stick <- replicate(B, {\n",
    "\tdoors <- as.character(1:3)\n",
    "\tprize <- sample(c(\"car\",\"goat\",\"goat\"))    # puts prizes in random order\n",
    "\tprize_door <- doors[prize == \"car\"]    # note which door has prize\n",
    "\tmy_pick  <- sample(doors, 1)    # note which door is chosen\n",
    "\tshow <- sample(doors[!doors %in% c(my_pick, prize_door)],1)    # open door with no prize that isn't chosen\n",
    "\tstick <- my_pick    # stick with original door\n",
    "\tstick == prize_door    # test whether the original door has the prize\n",
    "})\n",
    "mean(stick)    # probability of choosing prize door when sticking"
   ]
  },
  {
   "cell_type": "code",
   "execution_count": null,
   "id": "7426dfdb",
   "metadata": {},
   "outputs": [],
   "source": [
    "switch <- replicate(B, {\n",
    "\tdoors <- as.character(1:3)\n",
    "\tprize <- sample(c(\"car\",\"goat\",\"goat\"))    # puts prizes in random order\n",
    "\tprize_door <- doors[prize == \"car\"]    # note which door has prize\n",
    "\tmy_pick  <- sample(doors, 1)    # note which door is chosen first\n",
    "\tshow <- sample(doors[!doors %in% c(my_pick, prize_door)], 1)    # open door with no prize that isn't chosen\n",
    "\tswitch <- doors[!doors%in%c(my_pick, show)]    # switch to the door that wasn't chosen first or opened\n",
    "\tswitch == prize_door    # test whether the switched door has the prize\n",
    "})\n",
    "mean(switch)    # probability of choosing prize door when switching"
   ]
  },
  {
   "cell_type": "code",
   "execution_count": null,
   "id": "0f03bd41",
   "metadata": {},
   "outputs": [],
   "source": []
  }
 ],
 "metadata": {
  "kernelspec": {
   "display_name": "R",
   "language": "R",
   "name": "ir"
  },
  "language_info": {
   "codemirror_mode": "r",
   "file_extension": ".r",
   "mimetype": "text/x-r-source",
   "name": "R",
   "pygments_lexer": "r",
   "version": "4.0.5"
  }
 },
 "nbformat": 4,
 "nbformat_minor": 5
}
