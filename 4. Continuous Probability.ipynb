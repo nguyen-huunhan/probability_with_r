{
 "cells": [
  {
   "cell_type": "markdown",
   "metadata": {},
   "source": [
    "## 1. Cumulative distribution function"
   ]
  },
  {
   "cell_type": "markdown",
   "metadata": {},
   "source": [
    "When using distributions to summarize numeric data, it is much more practical to define a function that operates on intervals rather than single values. The standard way of doing this is using the cumulative distribution function (CDF).\n",
    "\n",
    "The cumulative distribution function (CDF) is a distribution function for continuous data $x$ that reports the proportion of the data below $a$ for all values of $a$: \n",
    "$$F(a) = \\mathbb{P}(x\\leq a) $$"
   ]
  },
  {
   "cell_type": "markdown",
   "metadata": {},
   "source": [
    "For example, to determine the probability that a male student is taller than $70$ inches given a vector of male heights $x$, we can use the CDF: $$ \\mathbb{P}(x > 70) = 1 - \\mathbb{P}(x \\leq 70) = 1 - F(70)$$"
   ]
  },
  {
   "cell_type": "code",
   "execution_count": 15,
   "metadata": {},
   "outputs": [
    {
     "data": {
      "text/html": [
       "0.376847290640394"
      ],
      "text/latex": [
       "0.376847290640394"
      ],
      "text/markdown": [
       "0.376847290640394"
      ],
      "text/plain": [
       "[1] 0.3768473"
      ]
     },
     "metadata": {},
     "output_type": "display_data"
    }
   ],
   "source": [
    "library(tidyverse)\n",
    "library(dslabs)\n",
    "data(heights)\n",
    "x <- heights %>% filter(sex==\"Male\") %>% pull(height)\n",
    "\n",
    "F <- function(a) mean(x <= a)    #define a function for computing CDF using x\n",
    "1 - F(70)    # probability of male taller than 70 inches"
   ]
  },
  {
   "cell_type": "markdown",
   "metadata": {},
   "source": [
    "Once a CDF is defined, we can use this to compute the probability of any subset. For instance, the probability that an observation is in between two values $a,b$ is $F(b)−F(a)$."
   ]
  },
  {
   "cell_type": "markdown",
   "metadata": {},
   "source": [
    "## 2. Theoretical (normal) distribution"
   ]
  },
  {
   "cell_type": "markdown",
   "metadata": {},
   "source": [
    "$\\textbf{Normal Distribution}$. $\\verb|pnorm(a, avg, s)|$ gives the value of the cumulative distribution function $F(a)$ for the normal distribution defined by average $\\verb|avg|$ and standard deviation $\\verb|s|$.\n",
    "\n"
   ]
  },
  {
   "cell_type": "markdown",
   "metadata": {},
   "source": [
    "If we are willing to use the normal approximation for height, we can estimate the distribution simply from the mean and standard deviation of our values.\n",
    "\n",
    "We can estimate the probability that a male is taller than 70.5 inches using:"
   ]
  },
  {
   "cell_type": "code",
   "execution_count": 16,
   "metadata": {},
   "outputs": [
    {
     "data": {
      "text/html": [
       "0.371369013278474"
      ],
      "text/latex": [
       "0.371369013278474"
      ],
      "text/markdown": [
       "0.371369013278474"
      ],
      "text/plain": [
       "[1] 0.371369"
      ]
     },
     "metadata": {},
     "output_type": "display_data"
    }
   ],
   "source": [
    "m <- mean(x)\n",
    "s <- sd(x)\n",
    "1 - pnorm(70.5, m, s)"
   ]
  },
  {
   "cell_type": "markdown",
   "metadata": {},
   "source": [
    "$\\textbf{Discretization}$. If we treat the height data as discrete rather than categorical, we see that the data are not very useful because integer values are more common than expected due to rounding. This is called $\\textit{discretization}$."
   ]
  },
  {
   "cell_type": "code",
   "execution_count": 17,
   "metadata": {},
   "outputs": [
    {
     "data": {
      "image/png": "[encoded data removed]",
      "text/plain": [
       "plot without title"
      ]
     },
     "metadata": {
      "image/png": {
       "height": 420,
       "width": 420
      }
     },
     "output_type": "display_data"
    }
   ],
   "source": [
    "# plot distribution of exact heights in data\n",
    "plot(prop.table(table(x)), xlab = \"a = Height in inches\", ylab = \"Pr(x = a)\")"
   ]
  },
  {
   "cell_type": "markdown",
   "metadata": {},
   "source": [
    "With rounded data, the normal approximation is particularly useful when computing probabilities of intervals of length 1 that include exactly one integer."
   ]
  },
  {
   "cell_type": "code",
   "execution_count": 18,
   "metadata": {},
   "outputs": [
    {
     "data": {
      "text/html": [
       "0.114532019704433"
      ],
      "text/latex": [
       "0.114532019704433"
      ],
      "text/markdown": [
       "0.114532019704433"
      ],
      "text/plain": [
       "[1] 0.114532"
      ]
     },
     "metadata": {},
     "output_type": "display_data"
    },
    {
     "data": {
      "text/html": [
       "0.119458128078818"
      ],
      "text/latex": [
       "0.119458128078818"
      ],
      "text/markdown": [
       "0.119458128078818"
      ],
      "text/plain": [
       "[1] 0.1194581"
      ]
     },
     "metadata": {},
     "output_type": "display_data"
    },
    {
     "data": {
      "text/html": [
       "0.12192118226601"
      ],
      "text/latex": [
       "0.12192118226601"
      ],
      "text/markdown": [
       "0.12192118226601"
      ],
      "text/plain": [
       "[1] 0.1219212"
      ]
     },
     "metadata": {},
     "output_type": "display_data"
    },
    {
     "data": {
      "text/html": [
       "0.103107700722601"
      ],
      "text/latex": [
       "0.103107700722601"
      ],
      "text/markdown": [
       "0.103107700722601"
      ],
      "text/plain": [
       "[1] 0.1031077"
      ]
     },
     "metadata": {},
     "output_type": "display_data"
    },
    {
     "data": {
      "text/html": [
       "0.109712077150593"
      ],
      "text/latex": [
       "0.109712077150593"
      ],
      "text/markdown": [
       "0.109712077150593"
      ],
      "text/plain": [
       "[1] 0.1097121"
      ]
     },
     "metadata": {},
     "output_type": "display_data"
    },
    {
     "data": {
      "text/html": [
       "0.108174271080828"
      ],
      "text/latex": [
       "0.108174271080828"
      ],
      "text/markdown": [
       "0.108174271080828"
      ],
      "text/plain": [
       "[1] 0.1081743"
      ]
     },
     "metadata": {},
     "output_type": "display_data"
    },
    {
     "data": {
      "text/html": [
       "0.0221674876847291"
      ],
      "text/latex": [
       "0.0221674876847291"
      ],
      "text/markdown": [
       "0.0221674876847291"
      ],
      "text/plain": [
       "[1] 0.02216749"
      ]
     },
     "metadata": {},
     "output_type": "display_data"
    },
    {
     "data": {
      "text/html": [
       "0.0835956178162536"
      ],
      "text/latex": [
       "0.0835956178162536"
      ],
      "text/markdown": [
       "0.0835956178162536"
      ],
      "text/plain": [
       "[1] 0.08359562"
      ]
     },
     "metadata": {},
     "output_type": "display_data"
    }
   ],
   "source": [
    "# probabilities in actual data over length 1 ranges containing an integer\n",
    "mean(x <= 68.5) - mean(x <= 67.5)\n",
    "mean(x <= 69.5) - mean(x <= 68.5)\n",
    "mean(x <= 70.5) - mean(x <= 69.5)\n",
    "\n",
    "# probabilities in normal approximation match well\n",
    "pnorm(68.5, mean(x), sd(x)) - pnorm(67.5, mean(x), sd(x))\n",
    "pnorm(69.5, mean(x), sd(x)) - pnorm(68.5, mean(x), sd(x))\n",
    "pnorm(70.5, mean(x), sd(x)) - pnorm(69.5, mean(x), sd(x))\n",
    "\n",
    "# probabilities in actual data over other ranges don't match normal approx as well\n",
    "mean(x <= 70.9) - mean(x <= 70.1)\n",
    "pnorm(70.9, mean(x), sd(x)) - pnorm(70.1, mean(x), sd(x))"
   ]
  },
  {
   "cell_type": "markdown",
   "metadata": {},
   "source": [
    "## 3. Probability density"
   ]
  },
  {
   "cell_type": "markdown",
   "metadata": {},
   "source": [
    "The quantity with the most similar interpretation to the probability of a single value (in discrete distribution) is the probability density function $f(x)$ (in continuous distribution). The probability density f(x) is defined such that the integral of $f(x)$ over a range gives the CDF of that range:\n",
    "$$F(a) = \\mathbb{P}(X \\leq a) = \\int_{-\\infty}^a f(x) dx. $$"
   ]
  },
  {
   "cell_type": "markdown",
   "metadata": {},
   "source": [
    "In $\\verb|R|$, the probability density function for the normal distribution is given by $\\verb|dnorm|()$. We will see uses of $\\verb|dnorm|()$ in the future."
   ]
  },
  {
   "cell_type": "markdown",
   "metadata": {},
   "source": [
    "$\\textbf{Plotting}$. We can use $\\verb|dnorm|()$ to plot the density curve for the normal distribution. "
   ]
  },
  {
   "cell_type": "markdown",
   "metadata": {},
   "source": [
    "First, we generate a series of $z$-scores covering the typical range of the normal distribution.  Since we know $99.7\\%$ of observations will be within $−3 \\leq z \\leq 3$, we can use a value of $z$ slightly larger than $3$ and this will cover most likely values of the normal distribution\n",
    "\n",
    "Then, we calculate $f(z)$, which is $\\verb|dnorm|()$ of the series of $z$-scores. Last, we plot $z$ against $f(z)$."
   ]
  },
  {
   "cell_type": "code",
   "execution_count": 19,
   "metadata": {},
   "outputs": [
    {
     "data": {
      "image/png": "[encoded data removed]",
      "text/plain": [
       "plot without title"
      ]
     },
     "metadata": {
      "image/png": {
       "height": 420,
       "width": 420
      }
     },
     "output_type": "display_data"
    }
   ],
   "source": [
    "library(tidyverse)\n",
    "x <- seq(-4, 4, length = 100)\n",
    "data.frame(x, f = dnorm(x)) %>%\n",
    "    ggplot(aes(x, f)) +\n",
    "    geom_line()"
   ]
  },
  {
   "cell_type": "markdown",
   "metadata": {},
   "source": [
    "Note that $\\verb|dnorm|()$ gives densities for the standard normal distribution by default. Probabilities for alternative normal distributions with mean $\\verb|mu|$ and standard deviation $\\verb|sigma|$ can be evaluated with: $$\\verb|dnorm(z, mu, sigma)| $$"
   ]
  },
  {
   "cell_type": "markdown",
   "metadata": {},
   "source": [
    "## 4. Monte-Carlo simulations of continuous distributions"
   ]
  },
  {
   "cell_type": "markdown",
   "metadata": {},
   "source": [
    "$\\verb|rnorm(n, avg, s)|$ generates $\\verb|n|$ random numbers from the normal distribution with average $\\verb|avg|$ and standard deviation $\\verb|s|$."
   ]
  },
  {
   "cell_type": "markdown",
   "metadata": {},
   "source": [
    "By generating random numbers from the normal distribution, we can simulate height data with similar properties to our dataset. Here we generate simulated height data using the normal distribution."
   ]
  },
  {
   "cell_type": "code",
   "execution_count": 20,
   "metadata": {},
   "outputs": [],
   "source": [
    "# generate simulated height data using normal distribution - both datasets should have n observations\n",
    "n <- length(x)\n",
    "avg <- mean(x)\n",
    "s <- sd(x)\n",
    "simulated_heights <- rnorm(n, avg, s)"
   ]
  },
  {
   "cell_type": "code",
   "execution_count": 21,
   "metadata": {},
   "outputs": [
    {
     "data": {
      "image/png": "[encoded data removed]",
      "text/plain": [
       "plot without title"
      ]
     },
     "metadata": {
      "image/png": {
       "height": 420,
       "width": 420
      }
     },
     "output_type": "display_data"
    }
   ],
   "source": [
    "# plot distribution of simulated_heights\n",
    "data.frame(simulated_heights = simulated_heights) %>%\n",
    "    ggplot(aes(simulated_heights)) +\n",
    "    geom_histogram(color=\"black\", binwidth = 2)"
   ]
  },
  {
   "cell_type": "markdown",
   "metadata": {},
   "source": [
    "This is one of the most useful functions in $\\verb|R|$ as it will permit us to generate data that mimics natural events\n",
    "and answers questions related to what could happen by chance by running Monte Carlo simulations."
   ]
  },
  {
   "cell_type": "markdown",
   "metadata": {},
   "source": [
    "If, for example, we pick $800$ males at random, what is the distribution of the tallest person? How rare is a seven footer in a group of $800$ males?"
   ]
  },
  {
   "cell_type": "code",
   "execution_count": 25,
   "metadata": {},
   "outputs": [
    {
     "data": {
      "text/html": [
       "0"
      ],
      "text/latex": [
       "0"
      ],
      "text/markdown": [
       "0"
      ],
      "text/plain": [
       "[1] 0"
      ]
     },
     "metadata": {},
     "output_type": "display_data"
    }
   ],
   "source": [
    "B <- 10000\n",
    "tallest <- replicate(B, {\n",
    "    simulated_data <- rnorm(800, avg, s)    # generate 800 normally distributed random heights\n",
    "    max(simulated_data)    # determine the tallest height\n",
    "})\n",
    "mean(tallest >= 7*12)    # proportion of times that tallest person exceeded 7 feet (84 inches)"
   ]
  },
  {
   "cell_type": "markdown",
   "metadata": {},
   "source": [
    "## 5. Other continuous distributions"
   ]
  },
  {
   "cell_type": "markdown",
   "metadata": {},
   "source": [
    "You may encounter other continuous distributions (Student t, $\\chi$-squared, exponential, gamma, beta, etc.). $\\verb|R|$ provides functions for density ($\\verb|d|$), quantile ($\\verb|q|$), probability distribution ($\\verb|p|$) and random number generation ($\\verb|r|$) for many of these distributions."
   ]
  },
  {
   "cell_type": "markdown",
   "metadata": {},
   "source": [
    "Each distribution has a matching abbreviation (for example, $\\verb|norm|()$ or $\\verb|t|()$) that is paired with the related function abbreviations ($\\verb|d, p, q, r|$) to create appropriate functions."
   ]
  },
  {
   "cell_type": "markdown",
   "metadata": {},
   "source": [
    "For example, use $\\verb|rt|()$ to generate random numbers for a Monte-Carlo simulation using the Student t distribution."
   ]
  },
  {
   "cell_type": "code",
   "execution_count": null,
   "metadata": {},
   "outputs": [],
   "source": []
  }
 ],
 "metadata": {
  "kernelspec": {
   "display_name": "R",
   "language": "R",
   "name": "ir"
  },
  "language_info": {
   "codemirror_mode": "r",
   "file_extension": ".r",
   "mimetype": "text/x-r-source",
   "name": "R",
   "pygments_lexer": "r",
   "version": "4.0.5"
  }
 },
 "nbformat": 4,
 "nbformat_minor": 4
}
