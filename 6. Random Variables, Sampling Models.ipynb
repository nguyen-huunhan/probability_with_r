{
 "cells": [
  {
   "cell_type": "markdown",
   "id": "4df581e4",
   "metadata": {},
   "source": [
    "### 1. Random Variables"
   ]
  },
  {
   "cell_type": "markdown",
   "id": "25b271c3",
   "metadata": {},
   "source": [
    "Random variables are numeric outcomes resulting from random processes. Statistical inference offers a framework for quantifying uncertainty due to randomness."
   ]
  },
  {
   "cell_type": "code",
   "execution_count": 1,
   "id": "b66357a1",
   "metadata": {},
   "outputs": [],
   "source": [
    "# define random variable x to be 1 if blue, 0 otherwise\n",
    "beads <- rep(c(\"red\", \"blue\"), times = c(2, 3))\n",
    "x <- ifelse(sample(beads, 1) == \"blue\", 1, 0)"
   ]
  },
  {
   "cell_type": "code",
   "execution_count": 18,
   "id": "ac9ff8e9",
   "metadata": {},
   "outputs": [
    {
     "data": {
      "text/html": [
       "1"
      ],
      "text/latex": [
       "1"
      ],
      "text/markdown": [
       "1"
      ],
      "text/plain": [
       "[1] 1"
      ]
     },
     "metadata": {},
     "output_type": "display_data"
    },
    {
     "data": {
      "text/html": [
       "1"
      ],
      "text/latex": [
       "1"
      ],
      "text/markdown": [
       "1"
      ],
      "text/plain": [
       "[1] 1"
      ]
     },
     "metadata": {},
     "output_type": "display_data"
    },
    {
     "data": {
      "text/html": [
       "1"
      ],
      "text/latex": [
       "1"
      ],
      "text/markdown": [
       "1"
      ],
      "text/plain": [
       "[1] 1"
      ]
     },
     "metadata": {},
     "output_type": "display_data"
    }
   ],
   "source": [
    "# demonstrate that the random variable is different every time\n",
    "ifelse(sample(beads, 1) == \"blue\", 1, 0)\n",
    "ifelse(sample(beads, 1) == \"blue\", 1, 0)\n",
    "ifelse(sample(beads, 1) == \"blue\", 1, 0)"
   ]
  },
  {
   "cell_type": "markdown",
   "id": "15944d79",
   "metadata": {},
   "source": [
    "### 2. Sampling Models"
   ]
  },
  {
   "cell_type": "markdown",
   "id": "d2c955d2",
   "metadata": {},
   "source": [
    "A sampling model models the random behavior of a process as the sampling of draws from an urn."
   ]
  },
  {
   "cell_type": "markdown",
   "id": "c4543c5c",
   "metadata": {},
   "source": [
    "**Monte Carlo simulation: Chance of casino losing money on roulette**"
   ]
  },
  {
   "cell_type": "markdown",
   "id": "50519c41",
   "metadata": {},
   "source": [
    "Suppose a very small casino hires you to consult on whether they should set up roulette wheels. To keep\n",
    "the example simple, we will assume that 1,000 people will play and that the only game you can play on the\n",
    "roulette wheel is to bet on red or black. The casino wants you to predict how much money they will make or\n",
    "lose. They want a range of values and, in particular, they want to know what’s the chance of losing money.\n",
    "If this probability is too high, they will pass on installing roulette wheels."
   ]
  },
  {
   "cell_type": "markdown",
   "id": "22dc32d6",
   "metadata": {},
   "source": [
    "We build a sampling model for the random variable S that represents the casino's total winnings."
   ]
  },
  {
   "cell_type": "code",
   "execution_count": 19,
   "id": "46bf6736",
   "metadata": {},
   "outputs": [
    {
     "data": {
      "text/html": [
       "<style>\n",
       ".list-inline {list-style: none; margin:0; padding: 0}\n",
       ".list-inline>li {display: inline-block}\n",
       ".list-inline>li:not(:last-child)::after {content: \"\\00b7\"; padding: 0 .5ex}\n",
       "</style>\n",
       "<ol class=list-inline><li>-1</li><li>-1</li><li>1</li><li>1</li><li>1</li><li>-1</li><li>1</li><li>1</li><li>1</li><li>-1</li></ol>\n"
      ],
      "text/latex": [
       "\\begin{enumerate*}\n",
       "\\item -1\n",
       "\\item -1\n",
       "\\item 1\n",
       "\\item 1\n",
       "\\item 1\n",
       "\\item -1\n",
       "\\item 1\n",
       "\\item 1\n",
       "\\item 1\n",
       "\\item -1\n",
       "\\end{enumerate*}\n"
      ],
      "text/markdown": [
       "1. -1\n",
       "2. -1\n",
       "3. 1\n",
       "4. 1\n",
       "5. 1\n",
       "6. -1\n",
       "7. 1\n",
       "8. 1\n",
       "9. 1\n",
       "10. -1\n",
       "\n",
       "\n"
      ],
      "text/plain": [
       " [1] -1 -1  1  1  1 -1  1  1  1 -1"
      ]
     },
     "metadata": {},
     "output_type": "display_data"
    },
    {
     "data": {
      "text/html": [
       "22"
      ],
      "text/latex": [
       "22"
      ],
      "text/markdown": [
       "22"
      ],
      "text/plain": [
       "[1] 22"
      ]
     },
     "metadata": {},
     "output_type": "display_data"
    }
   ],
   "source": [
    "# sampling model 1: define urn, then sample\n",
    "color <- rep(c(\"Black\", \"Red\", \"Green\"), c(18, 18, 2)) # define the urn for the sampling model\n",
    "n <- 1000\n",
    "X <- sample(ifelse(color == \"Red\", -1, 1), n, replace = TRUE)\n",
    "X[1:10]\n",
    "\n",
    "# sampling model 2: define urn inside sample function by noting probabilities\n",
    "x <- sample(c(-1, 1), n, replace = TRUE, prob = c(9/19, 10/19))    # 1000 independent draws\n",
    "S <- sum(x)    # total winnings = sum of draws\n",
    "S"
   ]
  },
  {
   "cell_type": "markdown",
   "id": "bce846b8",
   "metadata": {},
   "source": [
    "We use the sampling model to run a Monte Carlo simulation and use the results to estimate the probability of the casino losing money."
   ]
  },
  {
   "cell_type": "code",
   "execution_count": 22,
   "id": "07e11542",
   "metadata": {},
   "outputs": [
    {
     "data": {
      "text/html": [
       "0.0463"
      ],
      "text/latex": [
       "0.0463"
      ],
      "text/markdown": [
       "0.0463"
      ],
      "text/plain": [
       "[1] 0.0463"
      ]
     },
     "metadata": {},
     "output_type": "display_data"
    }
   ],
   "source": [
    "n <- 1000    # number of roulette players\n",
    "B <- 10000    # number of Monte Carlo experiments\n",
    "S <- replicate(B, {\n",
    "    X <- sample(c(-1,1), n, replace = TRUE, prob = c(9/19, 10/19))    # simulate 1000 spins\n",
    "    sum(X)    # determine total profit\n",
    "})\n",
    "\n",
    "mean(S < 0)    # probability of the casino losing money"
   ]
  },
  {
   "cell_type": "markdown",
   "id": "4aed64fd",
   "metadata": {},
   "source": [
    "We can plot a histogram of the observed values of S as well as the normal density curve based on the mean and standard deviation of S."
   ]
  },
  {
   "cell_type": "code",
   "execution_count": 23,
   "id": "a844f5d6",
   "metadata": {},
   "outputs": [
    {
     "data": {
      "image/png": "[encoded data removed]",
      "text/plain": [
       "plot without title"
      ]
     },
     "metadata": {
      "image/png": {
       "height": 420,
       "width": 420
      }
     },
     "output_type": "display_data"
    }
   ],
   "source": [
    "library(tidyverse)\n",
    "s <- seq(min(S), max(S), length = 100)    # sequence of 100 values across range of S\n",
    "normal_density <- data.frame(s = s, f = dnorm(s, mean(S), sd(S))) # generate normal density for S\n",
    "data.frame (S = S) %>%    # make data frame of S for histogram\n",
    "    ggplot(aes(S, ..density..)) +\n",
    "    geom_histogram(color = \"black\", binwidth = 10) +\n",
    "    ylab(\"Probability\") +\n",
    "    geom_line(data = normal_density, mapping = aes(s, f), color = \"blue\")"
   ]
  },
  {
   "cell_type": "code",
   "execution_count": null,
   "id": "b3160aa6",
   "metadata": {},
   "outputs": [],
   "source": []
  }
 ],
 "metadata": {
  "kernelspec": {
   "display_name": "R",
   "language": "R",
   "name": "ir"
  },
  "language_info": {
   "codemirror_mode": "r",
   "file_extension": ".r",
   "mimetype": "text/x-r-source",
   "name": "R",
   "pygments_lexer": "r",
   "version": "4.0.5"
  }
 },
 "nbformat": 4,
 "nbformat_minor": 5
}
