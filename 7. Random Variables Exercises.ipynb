{
 "cells": [
  {
   "cell_type": "markdown",
   "id": "342e4841",
   "metadata": {},
   "source": [
    "###  American Roulette"
   ]
  },
  {
   "cell_type": "markdown",
   "id": "9014ce29",
   "metadata": {},
   "source": [
    "An American roulette wheel has 18 red, 18 black, and 2 green pockets. Each red and black pocket is associated with a number from 1 to 36. The two remaining green slots feature \"0\" and \"00\". Players place bets on which pocket they think a ball will land in after the wheel is spun. Players can bet on a specific number (0, 00, 1-36) or color (red, black, or green)."
   ]
  },
  {
   "cell_type": "code",
   "execution_count": 16,
   "id": "732ec8af",
   "metadata": {},
   "outputs": [],
   "source": [
    "# The variables `green`, `black`, and `red` contain the number of pockets for each color\n",
    "green <- 2\n",
    "black <- 18\n",
    "red <- 18"
   ]
  },
  {
   "cell_type": "code",
   "execution_count": 17,
   "id": "e75804e9",
   "metadata": {},
   "outputs": [
    {
     "name": "stdout",
     "output_type": "stream",
     "text": [
      "[1] 0.05263158\n"
     ]
    }
   ],
   "source": [
    "#the probability of the ball landing in a green pocket\n",
    "p_green <- green/(green+black+red); print(p_green)"
   ]
  },
  {
   "cell_type": "markdown",
   "id": "eaf7a218",
   "metadata": {},
   "source": [
    " **Sampling model of winning from betting on green one**"
   ]
  },
  {
   "cell_type": "markdown",
   "id": "5c29f975",
   "metadata": {},
   "source": [
    "In American roulette, the payout for winning on green is \\\\$ 17. This means that if you bet \\\\$ 1 and it lands on green, you get \\\\$ 17 as a prize. Create a model to predict the random variable $X$, your winnings from betting on green."
   ]
  },
  {
   "cell_type": "code",
   "execution_count": 18,
   "id": "ea960db8",
   "metadata": {},
   "outputs": [],
   "source": [
    "set.seed(1)\n",
    "p_not_green <- 1 - p_green\n",
    "X <- sample(c(17,-1),prob = c(p_green,p_not_green),1)"
   ]
  },
  {
   "cell_type": "markdown",
   "id": "d5052f3b",
   "metadata": {},
   "source": [
    "Compute the expected value and the standard error of $X$."
   ]
  },
  {
   "cell_type": "code",
   "execution_count": 19,
   "id": "09771ada",
   "metadata": {},
   "outputs": [],
   "source": [
    "exp_val <- 17*p_green + (-1)*p_not_green\n",
    "sd_val <- abs(17 - (-1))*sqrt(p_green*p_not_green)"
   ]
  },
  {
   "cell_type": "markdown",
   "id": "94276233",
   "metadata": {},
   "source": [
    "Create a random variable $S$ that sums your winnings after betting on green 1,000 times. Calculate the expected value and standard error of $S$."
   ]
  },
  {
   "cell_type": "code",
   "execution_count": 20,
   "id": "401e3243",
   "metadata": {},
   "outputs": [],
   "source": [
    "set.seed(1)\n",
    "n <- 1000\n",
    "\n",
    "# Create a vector called 'X' that contains the outcomes of 1000 samples\n",
    "X <- sample(c(17,-1),1000,replace = TRUE, prob = c(p_green,p_not_green))\n",
    "\n",
    "# Assign the sum of all 1000 outcomes to the variable 'S'\n",
    "S <- sum(X)\n",
    "\n",
    "exp_sum <- n*(17*p_green + (-1)*p_not_green)\n",
    "sd_sum <- sqrt(n)*abs(17-(-1))*sqrt(p_green*p_not_green)"
   ]
  },
  {
   "cell_type": "code",
   "execution_count": null,
   "id": "3eba2c3e",
   "metadata": {},
   "outputs": [],
   "source": []
  }
 ],
 "metadata": {
  "kernelspec": {
   "display_name": "R",
   "language": "R",
   "name": "ir"
  },
  "language_info": {
   "codemirror_mode": "r",
   "file_extension": ".r",
   "mimetype": "text/x-r-source",
   "name": "R",
   "pygments_lexer": "r",
   "version": "4.0.5"
  }
 },
 "nbformat": 4,
 "nbformat_minor": 5
}
