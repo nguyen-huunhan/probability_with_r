{
 "cells": [
  {
   "cell_type": "markdown",
   "id": "444cd410",
   "metadata": {},
   "source": [
    "**American Roulette probabilities**"
   ]
  },
  {
   "cell_type": "markdown",
   "id": "f1efa5fa",
   "metadata": {},
   "source": [
    "An American roulette wheel has 18 red, 18 black, and 2 green pockets. Each red and black pocket is associated with a number from 1 to 36. The two remaining green slots feature \"0\" and \"00\". Players place bets on which pocket they think a ball will land in after the wheel is spun. Players can bet on a specific number (0, 00, 1-36) or color (red, black, or green)."
   ]
  },
  {
   "cell_type": "code",
   "execution_count": null,
   "id": "d72ae32c",
   "metadata": {},
   "outputs": [],
   "source": []
  }
 ],
 "metadata": {
  "kernelspec": {
   "display_name": "R",
   "language": "R",
   "name": "ir"
  },
  "language_info": {
   "codemirror_mode": "r",
   "file_extension": ".r",
   "mimetype": "text/x-r-source",
   "name": "R",
   "pygments_lexer": "r",
   "version": "4.0.5"
  }
 },
 "nbformat": 4,
 "nbformat_minor": 5
}
