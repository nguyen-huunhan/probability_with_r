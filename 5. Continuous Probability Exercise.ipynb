{
 "cells": [
  {
   "cell_type": "markdown",
   "id": "24ef5778",
   "metadata": {},
   "source": [
    "### Distribution of female heights"
   ]
  },
  {
   "cell_type": "markdown",
   "id": "bc79c95a",
   "metadata": {},
   "source": [
    "Assume the distribution of female heights is approximated by a normal distribution with a mean of 64 inches and a standard deviation of 3 inches. We answer the following questions:\n",
    "1. what is the probability that she is 5 feet or shorter?\n",
    "2. what is the probability that she is 6 feet or taller?\n",
    "3. what is the probability that she is between 61 and 67 inches?"
   ]
  },
  {
   "cell_type": "code",
   "execution_count": 7,
   "id": "57ce3599",
   "metadata": {},
   "outputs": [
    {
     "data": {
      "text/html": [
       "0.0912112197258678"
      ],
      "text/latex": [
       "0.0912112197258678"
      ],
      "text/markdown": [
       "0.0912112197258678"
      ],
      "text/plain": [
       "[1] 0.09121122"
      ]
     },
     "metadata": {},
     "output_type": "display_data"
    },
    {
     "data": {
      "text/html": [
       "0.00383038056758978"
      ],
      "text/latex": [
       "0.00383038056758978"
      ],
      "text/markdown": [
       "0.00383038056758978"
      ],
      "text/plain": [
       "[1] 0.003830381"
      ]
     },
     "metadata": {},
     "output_type": "display_data"
    },
    {
     "data": {
      "text/html": [
       "0.682689492137086"
      ],
      "text/latex": [
       "0.682689492137086"
      ],
      "text/markdown": [
       "0.682689492137086"
      ],
      "text/plain": [
       "[1] 0.6826895"
      ]
     },
     "metadata": {},
     "output_type": "display_data"
    }
   ],
   "source": [
    "#information about the distribution of female heights\n",
    "female_avg <- 64\n",
    "female_sd <- 3\n",
    "\n",
    "#CDF for female heights\n",
    "female_dist <- function(a){pnorm(a,female_avg,female_sd)}\n",
    "\n",
    "female_dist(5*12)\n",
    "1 - female_dist(6*12)\n",
    "female_dist(67) - female_dist(61)"
   ]
  },
  {
   "cell_type": "markdown",
   "id": "7c3247ed",
   "metadata": {},
   "source": [
    "Compute the probability that the height of a randomly chosen female is within 1 SD from the average height."
   ]
  },
  {
   "cell_type": "code",
   "execution_count": 9,
   "id": "edf10fe9",
   "metadata": {},
   "outputs": [],
   "source": [
    "female_dist(female_avg+female_sd) - female_dist(female_avg-female_sd)"
   ]
  },
  {
   "cell_type": "markdown",
   "id": "36922d77",
   "metadata": {},
   "source": [
    "### Distribution of male heights"
   ]
  },
  {
   "cell_type": "markdown",
   "id": "38ccdd16",
   "metadata": {},
   "source": [
    "Imagine the distribution of male adults is approximately normal with an average of 69 inches and a standard deviation of 3 inches. How tall is a male in the 99th percentile?"
   ]
  },
  {
   "cell_type": "code",
   "execution_count": 10,
   "id": "849f772d",
   "metadata": {},
   "outputs": [
    {
     "data": {
      "text/html": [
       "75.9790436221225"
      ],
      "text/latex": [
       "75.9790436221225"
      ],
      "text/markdown": [
       "75.9790436221225"
      ],
      "text/plain": [
       "[1] 75.97904"
      ]
     },
     "metadata": {},
     "output_type": "display_data"
    }
   ],
   "source": [
    "male_avg <- 69\n",
    "male_sd <- 3\n",
    "qnorm(0.99,male_avg,male_sd)"
   ]
  },
  {
   "cell_type": "markdown",
   "id": "74c98127",
   "metadata": {},
   "source": [
    "### Distribution of IQ scores"
   ]
  },
  {
   "cell_type": "markdown",
   "id": "6f7cb92d",
   "metadata": {},
   "source": [
    "The distribution of IQ scores is approximately normally distributed. The average is 100 and the standard deviation is 15. Suppose you want to know the distribution of the person with the highest IQ in your school district, where 10,000 people are born each year.\n",
    "\n",
    "Generate 10,000 IQ scores 1,000 times using a Monte Carlo simulation. Make a histogram of the highest IQ scores."
   ]
  },
  {
   "cell_type": "code",
   "execution_count": 11,
   "id": "9ac775f3",
   "metadata": {},
   "outputs": [
    {
     "data": {
      "image/png": "[encoded data removed]",
      "text/plain": [
       "Plot with title \"Histogram of highestIQ\""
      ]
     },
     "metadata": {
      "image/png": {
       "height": 420,
       "width": 420
      }
     },
     "output_type": "display_data"
    }
   ],
   "source": [
    "B <- 10000\n",
    "set.seed(1)\n",
    "highestIQ <- replicate(B, {simulated_IQ <- rnorm(10000,100,15)\n",
    "    max(simulated_IQ)})\n",
    "hist(highestIQ)"
   ]
  },
  {
   "cell_type": "markdown",
   "id": "e2cefffb",
   "metadata": {},
   "source": [
    "### ACT scores"
   ]
  },
  {
   "cell_type": "markdown",
   "id": "cf132a11",
   "metadata": {},
   "source": [
    "The ACT is a standardized college admissions test used in the United States. The four multi-part questions in this assessment all involve simulating some ACT test scores and answering probability questions about them."
   ]
  },
  {
   "cell_type": "markdown",
   "id": "04112074",
   "metadata": {},
   "source": [
    "For the three year period 2016-2018, ACT standardized test scores were approximately normally distributed with a mean of 20.9 and standard deviation of 5.7. (Real ACT scores are integers between 1 and 36, but we will ignore this detail and use continuous values instead.)"
   ]
  },
  {
   "cell_type": "markdown",
   "id": "69141162",
   "metadata": {},
   "source": [
    "**Simulation**. First we'll simulate an ACT test score dataset and answer some questions about it.\n",
    "\n",
    "Set the seed to 16, then use $\\verb|rnorm|()$ to generate a normal distribution of 10000 tests with a mean of 20.9 and standard deviation of 5.7. Save these values as $\\verb|act_scores|$. You'll be using this dataset throughout these four multi-part questions."
   ]
  },
  {
   "cell_type": "code",
   "execution_count": 35,
   "id": "ba318f7a",
   "metadata": {},
   "outputs": [],
   "source": [
    "set.seed(16)\n",
    "act_scores <- rnorm(10000, 20.9, 5.7)"
   ]
  },
  {
   "cell_type": "markdown",
   "id": "4131b15d",
   "metadata": {},
   "source": [
    "Now we compute some basic statistic value of the previous simulation."
   ]
  },
  {
   "cell_type": "code",
   "execution_count": 36,
   "id": "c11bdcdc",
   "metadata": {},
   "outputs": [
    {
     "name": "stdout",
     "output_type": "stream",
     "text": [
      "[1] \"mean of act scores is 20.8401214295426\"\n",
      "[1] \"standard deviation of act scores is 5.67523700598245\"\n"
     ]
    }
   ],
   "source": [
    "mean_act <- mean(act_scores); print(paste(\"mean of act scores is\", mean_act))\n",
    "sd_act <- sd(act_scores); print(paste(\"standard deviation of act scores is\", sd_act))"
   ]
  },
  {
   "cell_type": "code",
   "execution_count": 31,
   "id": "7de0586b",
   "metadata": {},
   "outputs": [
    {
     "name": "stdout",
     "output_type": "stream",
     "text": [
      "[1] \"number of perfect scores which >=36 is 41\"\n"
     ]
    }
   ],
   "source": [
    "perfect_act <- sum(act_scores>=36); print(paste(\"number of perfect scores which >=36 is\", perfect_act))"
   ]
  },
  {
   "cell_type": "code",
   "execution_count": 34,
   "id": "c1622ca5",
   "metadata": {},
   "outputs": [
    {
     "name": "stdout",
     "output_type": "stream",
     "text": [
      "[1] \"probability of an ACT score greater than 30 is 0.0527\"\n",
      "[1] \"probability of an ACT score less than or equal to 10 is 0.0282\"\n"
     ]
    }
   ],
   "source": [
    "print(paste(\"probability of an ACT score greater than 30 is\", mean(act_scores>30)))\n",
    "print(paste(\"probability of an ACT score less than or equal to 10 is\", mean(act_scores<=10)))"
   ]
  },
  {
   "cell_type": "markdown",
   "id": "355a3964",
   "metadata": {},
   "source": [
    "**Plotting**. Plot the probability density."
   ]
  },
  {
   "cell_type": "code",
   "execution_count": 45,
   "id": "8431c807",
   "metadata": {},
   "outputs": [
    {
     "data": {
      "image/png": "[encoded data removed]",
      "text/plain": [
       "plot without title"
      ]
     },
     "metadata": {
      "image/png": {
       "height": 420,
       "width": 420
      }
     },
     "output_type": "display_data"
    }
   ],
   "source": [
    "library(dplyr)\n",
    "library(ggplot2)\n",
    "x <- seq(1,36,1)\n",
    "data.frame(x,f=dnorm(x,20.9,5.7)) %>% ggplot(aes(x,f_x)) + geom_line()"
   ]
  },
  {
   "cell_type": "markdown",
   "id": "e541d467",
   "metadata": {},
   "source": [
    "**Convert act_scores to Z-scores**"
   ]
  },
  {
   "cell_type": "code",
   "execution_count": 46,
   "id": "5cbca38a",
   "metadata": {},
   "outputs": [],
   "source": [
    "z_scores <- (act_scores-mean_act)/sd_act"
   ]
  },
  {
   "cell_type": "code",
   "execution_count": 76,
   "id": "7204049a",
   "metadata": {},
   "outputs": [
    {
     "name": "stdout",
     "output_type": "stream",
     "text": [
      "[1] \"probability of a Z-score greater than 2 is 0.0233\"\n",
      "[1] \"ACT score value corresponds to 2 SD above the mean is 32.1905954415075\"\n",
      "[1] \"the 97.5th percentile of act_scores 31.9633815649971\"\n"
     ]
    }
   ],
   "source": [
    "print(paste(\"probability of a Z-score greater than 2 is\",mean(z_scores>=2)))\n",
    "print(paste(\"ACT score value corresponds to 2 SD above the mean is\", mean_act+2*sd_act))\n",
    "print(paste(\"the 97.5th percentile of act_scores\", qnorm(0.975,mean_act,sd_act)))"
   ]
  },
  {
   "cell_type": "markdown",
   "id": "df359003",
   "metadata": {},
   "source": [
    "**Function to create a CDF for ACT scores**"
   ]
  },
  {
   "cell_type": "code",
   "execution_count": 58,
   "id": "7638e054",
   "metadata": {},
   "outputs": [],
   "source": [
    "cdf_act <- function(x){\n",
    "    mean(act_scores<=x)\n",
    "}"
   ]
  },
  {
   "cell_type": "markdown",
   "id": "57df7759",
   "metadata": {},
   "source": [
    "Apply this function to the range 1 to 36."
   ]
  },
  {
   "cell_type": "code",
   "execution_count": 77,
   "id": "3f71e492",
   "metadata": {},
   "outputs": [
    {
     "name": "stdout",
     "output_type": "stream",
     "text": [
      "[1] \"the minimum integer score such that CDF value is at least 0.95 is 31\"\n",
      "[1] \"the expected 95th percentile is 30.2756656736234\"\n"
     ]
    }
   ],
   "source": [
    "library(BBmisc)\n",
    "library(tidyverse)\n",
    "x <- seq(1,36,1)\n",
    "cdf_value <- sapply(x,cdf_act)\n",
    "print(paste(\"the minimum integer score such that CDF value is at least 0.95 is\", \n",
    "            x[which.first(cdf_value>=0.95, use.names = TRUE)])) \n",
    "print(paste(\"the expected 95th percentile is\", qnorm(0.95,20.9,5.7)))"
   ]
  },
  {
   "cell_type": "code",
   "execution_count": 86,
   "id": "338ca940",
   "metadata": {},
   "outputs": [
    {
     "name": "stdout",
     "output_type": "stream",
     "text": [
      "[1] \"the percentile of a score of 26 is 82\"\n"
     ]
    }
   ],
   "source": [
    "p <- seq(0.01, 0.99, 0.01)\n",
    "sample_quantiles <- quantile(act_scores,p)\n",
    "print(paste(\"the percentile of a score of 26 is\", \n",
    "            100*p[which.first(sample_quantiles>26, use.names=TRUE)]-1))"
   ]
  },
  {
   "cell_type": "markdown",
   "id": "5ebbe300",
   "metadata": {},
   "source": [
    "Make a corresponding set of theoretical quantiles using $\\verb|qnorm|()$ over the interval $\\verb|p <- seq(0.01, 0.99, 0.01)|$ with mean $20.9$ and standard deviation $5.7$. Make a QQ-plot graphing $\\verb|sample_quantiles|$ on the y-axis versus $\\verb|theoretical_quantiles|$ on the x-axis."
   ]
  },
  {
   "cell_type": "code",
   "execution_count": 89,
   "id": "7483f7be",
   "metadata": {},
   "outputs": [
    {
     "data": {
      "image/png": "[encoded data removed]",
      "text/plain": [
       "plot without title"
      ]
     },
     "metadata": {
      "image/png": {
       "height": 420,
       "width": 420
      }
     },
     "output_type": "display_data"
    }
   ],
   "source": [
    "theoretical_quantiles <- qnorm(p,20.9,5.7)\n",
    "qplot(theoretical_quantiles, sample_quantiles) + geom_abline()"
   ]
  },
  {
   "cell_type": "code",
   "execution_count": null,
   "id": "e85c8b64",
   "metadata": {},
   "outputs": [],
   "source": []
  }
 ],
 "metadata": {
  "kernelspec": {
   "display_name": "R",
   "language": "R",
   "name": "ir"
  },
  "language_info": {
   "codemirror_mode": "r",
   "file_extension": ".r",
   "mimetype": "text/x-r-source",
   "name": "R",
   "pygments_lexer": "r",
   "version": "4.0.5"
  }
 },
 "nbformat": 4,
 "nbformat_minor": 5
}
