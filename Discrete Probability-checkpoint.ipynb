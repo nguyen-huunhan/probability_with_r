{
 "cells": [
  {
   "cell_type": "markdown",
   "id": "956b0b22",
   "metadata": {},
   "source": [
    "First recall the definition of the probability of event $A$ happening given a finite sample space $\\Omega$, denoted by $\\mathbb{P}(A) = \\dfrac{|A|}{|\\Omega|}$. The aims of this section include:\n",
    "1. Model random experiments by the Monte-Carlo simulations using functions $\\textbf{sample}()$, $\\textbf{replicate}()$.\n",
    "2. Compute the probability of an event by the function $\\textbf{mean}()$.\n",
    "3. Discuss some basic properties of discrete probability: distribution, independence."
   ]
  },
  {
   "cell_type": "markdown",
   "id": "7510d4d4",
   "metadata": {},
   "source": [
    "## 1. The Monte-Carlo simulations"
   ]
  },
  {
   "cell_type": "markdown",
   "id": "10616f3d",
   "metadata": {},
   "source": [
    "Monte Carlo simulations model the probability of different outcomes by repeating a random process a large enough number of times that the results are similar to what would be observed if the process were repeated forever."
   ]
  },
  {
   "cell_type": "markdown",
   "id": "a974afcc",
   "metadata": {},
   "source": [
    "Let consider an experiment: pick a bead at random from a bag that contains three blue beads and two red ones. Random number generators permit us to mimic the process of picking at random. In this section, we use a function $\\textbf{sample}()$ to draw a random outcome."
   ]
  },
  {
   "cell_type": "markdown",
   "id": "6fb965ea",
   "metadata": {},
   "source": [
    "First, create an urn using a function $\\textbf{rep}()$."
   ]
  },
  {
   "cell_type": "code",
   "execution_count": 2,
   "id": "e1435661",
   "metadata": {},
   "outputs": [
    {
     "data": {
      "text/html": [
       "<ol class=list-inline>\n",
       "\t<li>'red'</li>\n",
       "\t<li>'red'</li>\n",
       "\t<li>'blue'</li>\n",
       "\t<li>'blue'</li>\n",
       "\t<li>'blue'</li>\n",
       "</ol>\n"
      ],
      "text/latex": [
       "\\begin{enumerate*}\n",
       "\\item 'red'\n",
       "\\item 'red'\n",
       "\\item 'blue'\n",
       "\\item 'blue'\n",
       "\\item 'blue'\n",
       "\\end{enumerate*}\n"
      ],
      "text/markdown": [
       "1. 'red'\n",
       "2. 'red'\n",
       "3. 'blue'\n",
       "4. 'blue'\n",
       "5. 'blue'\n",
       "\n",
       "\n"
      ],
      "text/plain": [
       "[1] \"red\"  \"red\"  \"blue\" \"blue\" \"blue\""
      ]
     },
     "metadata": {},
     "output_type": "display_data"
    }
   ],
   "source": [
    "beads <- rep(c(\"red\", \"blue\"), times = c(2,3))    # create an urn with 2 red, 3 blue\n",
    "beads    # view beads object"
   ]
  },
  {
   "cell_type": "markdown",
   "id": "26d1f051",
   "metadata": {},
   "source": [
    "The function $\\textbf{sample}()$ enables us to randomly pick an object from a given urn."
   ]
  },
  {
   "cell_type": "code",
   "execution_count": 4,
   "id": "e0b9c385",
   "metadata": {},
   "outputs": [
    {
     "data": {
      "text/html": [
       "'blue'"
      ],
      "text/latex": [
       "'blue'"
      ],
      "text/markdown": [
       "'blue'"
      ],
      "text/plain": [
       "[1] \"blue\""
      ]
     },
     "metadata": {},
     "output_type": "display_data"
    }
   ],
   "source": [
    "sample(beads, 1)    # sample 1 bead at random"
   ]
  },
  {
   "cell_type": "markdown",
   "id": "5b750e6b",
   "metadata": {},
   "source": [
    "To receive a statistical probability, we would like to do this experiment a sufficiently large number of times. We use the function $\\textbf{replicate}()$ to repeat a task any number of times."
   ]
  },
  {
   "cell_type": "code",
   "execution_count": 5,
   "id": "8e821c7f",
   "metadata": {},
   "outputs": [
    {
     "data": {
      "text/plain": [
       "events\n",
       "blue  red \n",
       "6003 3997 "
      ]
     },
     "metadata": {},
     "output_type": "display_data"
    },
    {
     "data": {
      "text/plain": [
       "events\n",
       "  blue    red \n",
       "0.6003 0.3997 "
      ]
     },
     "metadata": {},
     "output_type": "display_data"
    }
   ],
   "source": [
    "B <- 10000    # number of times to draw 1 bead\n",
    "events <- replicate(B, sample(beads, 1))    # draw 1 bead, B times\n",
    "tab <- table(events)    # make a table of outcome counts\n",
    "tab    # view count table\n",
    "prop.table(tab)    # view table of outcome proportions"
   ]
  },
  {
   "cell_type": "markdown",
   "id": "7e8559da",
   "metadata": {},
   "source": [
    "## 2. Using $\\textbf{mean}()$ function for probability"
   ]
  },
  {
   "cell_type": "markdown",
   "id": "f2ed058e",
   "metadata": {},
   "source": [
    "In $\\mathrm{R}$, applying the $\\textbf{mean}()$ function to a logical vector returns the proportion of elements that are $\\mathrm{TRUE}$. It is very common to use the $\\textbf{mean}()$ function in this way to calculate probabilities and we will do so throughout the course."
   ]
  },
  {
   "cell_type": "code",
   "execution_count": 8,
   "id": "e470e984",
   "metadata": {},
   "outputs": [
    {
     "data": {
      "text/html": [
       "<ol class=list-inline>\n",
       "\t<li>'red'</li>\n",
       "\t<li>'red'</li>\n",
       "\t<li>'blue'</li>\n",
       "\t<li>'blue'</li>\n",
       "\t<li>'blue'</li>\n",
       "</ol>\n"
      ],
      "text/latex": [
       "\\begin{enumerate*}\n",
       "\\item 'red'\n",
       "\\item 'red'\n",
       "\\item 'blue'\n",
       "\\item 'blue'\n",
       "\\item 'blue'\n",
       "\\end{enumerate*}\n"
      ],
      "text/markdown": [
       "1. 'red'\n",
       "2. 'red'\n",
       "3. 'blue'\n",
       "4. 'blue'\n",
       "5. 'blue'\n",
       "\n",
       "\n"
      ],
      "text/plain": [
       "[1] \"red\"  \"red\"  \"blue\" \"blue\" \"blue\""
      ]
     },
     "metadata": {},
     "output_type": "display_data"
    }
   ],
   "source": [
    "beads <- rep(c(\"red\", \"blue\"), times = c(2,3))\n",
    "beads"
   ]
  },
  {
   "cell_type": "code",
   "execution_count": 9,
   "id": "cc05a0f7",
   "metadata": {},
   "outputs": [
    {
     "data": {
      "text/html": [
       "0.6"
      ],
      "text/latex": [
       "0.6"
      ],
      "text/markdown": [
       "0.6"
      ],
      "text/plain": [
       "[1] 0.6"
      ]
     },
     "metadata": {},
     "output_type": "display_data"
    }
   ],
   "source": [
    "mean(beads == \"blue\")"
   ]
  },
  {
   "cell_type": "code",
   "execution_count": null,
   "id": "b7a0b993",
   "metadata": {},
   "outputs": [],
   "source": []
  },
  {
   "cell_type": "markdown",
   "id": "37441758",
   "metadata": {},
   "source": [
    "This code is broken down into steps inside $\\mathrm{R}$. First, $\\mathrm{R}$ evaluates the logical statement $\\textbf{beads}$==$\\textbf{\blue\"}$, which generates the vector: \n",
    $$\\text{FALSE FALSE TRUE TRUE TRUE}$$"
   ]
  },
  {
   "cell_type": "markdown",
   "id": "9a75589e",
   "metadata": {},
   "source": [
    "When the mean function is applied, $\\mathrm{R}$ coerces the logical values to numeric values, changing $\\mathrm{TRUE}$ to $1$ and $\\mathrm{FALSE}$ to $0$. The mean of the zeros and ones thus gives the proportion of $\\mathrm{TRUE}$ values which is our desired probability."
   ]
  },
  {
   "cell_type": "code",
   "execution_count": null,
   "id": "c8bf057a",
   "metadata": {},
   "outputs": [],
   "source": []
  }
 ],
 "metadata": {
  "kernelspec": {
   "display_name": "R",
   "language": "R",
   "name": "ir"
  },
  "language_info": {
   "codemirror_mode": "r",
   "file_extension": ".r",
   "mimetype": "text/x-r-source",
   "name": "R",
   "pygments_lexer": "r",
   "version": "4.0.5"
  }
 },
 "nbformat": 4,
 "nbformat_minor": 5
}
