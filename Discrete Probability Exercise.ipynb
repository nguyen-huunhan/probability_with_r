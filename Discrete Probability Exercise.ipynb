{
 "cells": [
  {
   "cell_type": "markdown",
   "id": "521f6f56",
   "metadata": {},
   "source": [
    "## Monte-Carlo simulations of 2-player games"
   ]
  },
  {
   "cell_type": "markdown",
   "id": "8f0cbc46",
   "metadata": {},
   "source": [
    "$\\textbf{Exercise 1}$. Two teams, say the Celtics and the Cavs, are playing a seven game series. The Cavs are a better team\n",
    "and have a 60% chance of winning each game. Create a Monte Carlo simulation to confirm the probability that Celtics wins at least one game."
   ]
  },
  {
   "cell_type": "code",
   "execution_count": 1,
   "id": "73c6b67b",
   "metadata": {},
   "outputs": [
    {
     "data": {
      "text/html": [
       "0.8757"
      ],
      "text/latex": [
       "0.8757"
      ],
      "text/markdown": [
       "0.8757"
      ],
      "text/plain": [
       "[1] 0.8757"
      ]
     },
     "metadata": {},
     "output_type": "display_data"
    }
   ],
   "source": [
    "set.seed(1)\n",
    "B <- 10000\n",
    "celtic_wins <- replicate(B,any(sample(c(\"lose\",\"win\"), 4, replace = TRUE, prob = c(0.6, 0.4))==\"win\"))\n",
    "mean(celtic_wins)"
   ]
  },
  {
   "cell_type": "markdown",
   "id": "f7c5f318",
   "metadata": {},
   "source": [
    "$\\textbf{Exercise 2}$. Two teams, say the Cavs and the Warriors, are playing a seven game championship series. The first to win four games wins the series. The teams are equally good, so they each have a 50-50 chance of winning each game. If the Cavs lose the first game, what is the probability that they win\n",
    "the series?"
   ]
  },
  {
   "cell_type": "markdown",
   "id": "da74bff2",
   "metadata": {},
   "source": [
    "First we compute the probability that the Cavs win the game series by using the definition $\\mathbb{P}(A) = \\dfrac{|A|}{|\\Omega|}$. Let create a data frame $\\textbf{'possibilities'}$ contains all combinations of possible outcomes and use $\\textbf{mean}()$ to compute the probability."
   ]
  },
  {
   "cell_type": "code",
   "execution_count": 2,
   "id": "3b2c0691",
   "metadata": {},
   "outputs": [
    {
     "data": {
      "text/html": [
       "0.34375"
      ],
      "text/latex": [
       "0.34375"
      ],
      "text/markdown": [
       "0.34375"
      ],
      "text/plain": [
       "[1] 0.34375"
      ]
     },
     "metadata": {},
     "output_type": "display_data"
    }
   ],
   "source": [
    "# Assign a variable 'n' as the number of remaining games.\n",
    "n <- 6\n",
    "\n",
    "# Assign a variable `outcomes` as a vector of possible game outcomes, where 0 indicates a loss and 1 indicates a win for the Cavs.\n",
    "outcomes <- c(0,1)\n",
    "\n",
    "# Assign a variable `l` to a list of all possible outcomes in all remaining games. Use the `rep` function on `list(outcomes)` to create list of length `n`.\n",
    "l <- rep(list(outcomes),n)\n",
    "\n",
    "# Create a data frame named 'possibilities' that contains all combinations of possible outcomes for the remaining games.\n",
    "possibilities <- expand.grid(l)\n",
    "\n",
    "# Create a vector named 'results' that indicates whether each row in the data frame 'possibilities' contains enough wins for the Cavs to win the series.\n",
    "results <- rowSums(possibilities)>=4\n",
    "\n",
    "# Calculate the proportion of 'results' in which the Cavs win the series. Print the outcome to the console.\n",
    "mean(results)"
   ]
  },
  {
   "cell_type": "markdown",
   "id": "5925bc7e",
   "metadata": {},
   "source": [
    "Confirm the results of the previous question with a Monte Carlo simulation to estimate the probability of the Cavs winning the series after losing the first game."
   ]
  },
  {
   "cell_type": "code",
   "execution_count": 3,
   "id": "dd60089a",
   "metadata": {},
   "outputs": [
    {
     "data": {
      "text/html": [
       "0.3444"
      ],
      "text/latex": [
       "0.3444"
      ],
      "text/markdown": [
       "0.3444"
      ],
      "text/plain": [
       "[1] 0.3444"
      ]
     },
     "metadata": {},
     "output_type": "display_data"
    }
   ],
   "source": [
    "# The variable `B` specifies the number of times we want the simulation to run. Let's run the Monte Carlo simulation 10,000 times.\n",
    "B <- 10000\n",
    "\n",
    "# Use the `set.seed` function to make sure your answer matches the expected result after random sampling.\n",
    "set.seed(1)\n",
    "\n",
    "# Create an object called `results` that replicates for `B` iterations a simulated series and determines whether that series contains at least four wins for the Cavs.\n",
    "\n",
    "results <- replicate(B, sum(sample(c(0,1), 6, replace = TRUE, prob=c(0.5,0.5)))>=4)\n",
    "\n",
    "# Calculate the frequency out of `B` iterations that the Cavs won at least four games in the remainder of the series. Print your answer to the console.\n",
    "\n",
    "mean(results)"
   ]
  },
  {
   "cell_type": "markdown",
   "id": "63b63546",
   "metadata": {},
   "source": [
    "## Functions for 2-player games"
   ]
  },
  {
   "cell_type": "markdown",
   "id": "3f88f007",
   "metadata": {},
   "source": [
    "Two teams, $A$ and $B$, are playing a seven series game series. Team $A$ is better than team $B$ and has a $p>0.5$ chance of winning each game."
   ]
  },
  {
   "cell_type": "code",
   "execution_count": 5,
   "id": "5db72c8a",
   "metadata": {},
   "outputs": [
    {
     "data": {
      "image/png": "[encoded data removed]",
      "text/plain": [
       "plot without title"
      ]
     },
     "metadata": {
      "image/png": {
       "height": 420,
       "width": 420
      }
     },
     "output_type": "display_data"
    }
   ],
   "source": [
    "# Let's assign the variable 'p' as the vector of probabilities that team A will win.\n",
    "p <- seq(0.5, 0.95, 0.025)\n",
    "\n",
    "# Given a value 'p', the probability of winning the series for the underdog team B can be computed with the following function based on a Monte Carlo simulation:\n",
    "prob_win <- function(p){\n",
    "  B <- 10000\n",
    "  result <- replicate(B, {\n",
    "    b_win <- sample(c(1,0), 7, replace = TRUE, prob = c(1-p, p))\n",
    "    sum(b_win)>=4\n",
    "    })\n",
    "  mean(result)\n",
    "}\n",
    "\n",
    "# Apply the 'prob_win' function across the vector of probabilities that team A will win to determine the probability that team B will win. Call this object 'Pr'.\n",
    "Pr <- sapply(p, prob_win)\n",
    "\n",
    "# Plot the probability 'p' on the x-axis and 'Pr' on the y-axis.\n",
    "plot(p,Pr)"
   ]
  },
  {
   "cell_type": "markdown",
   "id": "dc21a703",
   "metadata": {},
   "source": [
    "Repeat the previous exercise, but now keep the probability that team  wins fixed at $p \\leftarrow 0.75$ and compute the probability for different series lengths. For example, wins in best of 1 game, 3 games, 5 games, and so on through a series that lasts 25 games."
   ]
  },
  {
   "cell_type": "code",
   "execution_count": 7,
   "id": "1b404b2c",
   "metadata": {},
   "outputs": [
    {
     "data": {
      "image/png": "[encoded data removed]",
      "text/plain": [
       "plot without title"
      ]
     },
     "metadata": {
      "image/png": {
       "height": 420,
       "width": 420
      }
     },
     "output_type": "display_data"
    }
   ],
   "source": [
    "# Given a value 'p', the probability of winning the series for the underdog team B can be computed with the following function based on a Monte Carlo simulation:\n",
    "prob_win <- function(N, p=0.75){\n",
    "      B <- 10000\n",
    "      result <- replicate(B, {\n",
    "        b_win <- sample(c(1,0), N, replace = TRUE, prob = c(1-p, p))\n",
    "        sum(b_win)>=(N+1)/2\n",
    "        })\n",
    "      mean(result)\n",
    "    }\n",
    "\n",
    "# Assign the variable 'N' as the vector of series lengths. Use only odd numbers ranging from 1 to 25 games.\n",
    "N <- seq(1,25,1)\n",
    "\n",
    "# Apply the 'prob_win' function across the vector of series lengths to determine the probability that team B will win. Call this object `Pr`.\n",
    "Pr <- sapply(N, prob_win)\n",
    "\n",
    "# Plot the number of games in the series 'N' on the x-axis and 'Pr' on the y-axis.\n",
    "plot(N,Pr)"
   ]
  },
  {
   "cell_type": "code",
   "execution_count": null,
   "id": "dc830135",
   "metadata": {},
   "outputs": [],
   "source": []
  }
 ],
 "metadata": {
  "kernelspec": {
   "display_name": "R",
   "language": "R",
   "name": "ir"
  },
  "language_info": {
   "codemirror_mode": "r",
   "file_extension": ".r",
   "mimetype": "text/x-r-source",
   "name": "R",
   "pygments_lexer": "r",
   "version": "4.0.5"
  }
 },
 "nbformat": 4,
 "nbformat_minor": 5
}
