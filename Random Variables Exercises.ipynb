{
 "cells": [
  {
   "cell_type": "markdown",
   "id": "342e4841",
   "metadata": {},
   "source": [
    "###  1. American Roulette"
   ]
  },
  {
   "cell_type": "markdown",
   "id": "9014ce29",
   "metadata": {},
   "source": [
    "An American roulette wheel has 18 red, 18 black, and 2 green pockets. Each red and black pocket is associated with a number from 1 to 36. The two remaining green slots feature \"0\" and \"00\". Players place bets on which pocket they think a ball will land in after the wheel is spun. Players can bet on a specific number (0, 00, 1-36) or color (red, black, or green)."
   ]
  },
  {
   "cell_type": "code",
   "execution_count": 16,
   "id": "732ec8af",
   "metadata": {},
   "outputs": [],
   "source": [
    "# The variables `green`, `black`, and `red` contain the number of pockets for each color\n",
    "green <- 2\n",
    "black <- 18\n",
    "red <- 18"
   ]
  },
  {
   "cell_type": "code",
   "execution_count": 17,
   "id": "e75804e9",
   "metadata": {},
   "outputs": [
    {
     "name": "stdout",
     "output_type": "stream",
     "text": [
      "[1] 0.05263158\n"
     ]
    }
   ],
   "source": [
    "#the probability of the ball landing in a green pocket\n",
    "p_green <- green/(green+black+red); print(p_green)"
   ]
  },
  {
   "cell_type": "markdown",
   "id": "eaf7a218",
   "metadata": {},
   "source": [
    " **Sampling model of winning from betting on green one**"
   ]
  },
  {
   "cell_type": "markdown",
   "id": "5c29f975",
   "metadata": {},
   "source": [
    "In American roulette, the payout for winning on green is \\\\$ 17. This means that if you bet \\\\$ 1 and it lands on green, you get \\\\$ 17 as a prize. Create a model to predict the random variable $X$, your winnings from betting on green."
   ]
  },
  {
   "cell_type": "code",
   "execution_count": 18,
   "id": "ea960db8",
   "metadata": {},
   "outputs": [],
   "source": [
    "set.seed(1)\n",
    "p_not_green <- 1 - p_green\n",
    "X <- sample(c(17,-1),prob = c(p_green,p_not_green),1)"
   ]
  },
  {
   "cell_type": "markdown",
   "id": "d5052f3b",
   "metadata": {},
   "source": [
    "Compute the expected value and the standard error of $X$."
   ]
  },
  {
   "cell_type": "code",
   "execution_count": 19,
   "id": "09771ada",
   "metadata": {},
   "outputs": [],
   "source": [
    "exp_val <- 17*p_green + (-1)*p_not_green\n",
    "sd_val <- abs(17 - (-1))*sqrt(p_green*p_not_green)"
   ]
  },
  {
   "cell_type": "markdown",
   "id": "94276233",
   "metadata": {},
   "source": [
    "Create a random variable $S$ that sums your winnings after betting on green 1,000 times. Calculate the expected value and standard error of $S$."
   ]
  },
  {
   "cell_type": "code",
   "execution_count": 20,
   "id": "401e3243",
   "metadata": {},
   "outputs": [],
   "source": [
    "set.seed(1)\n",
    "n <- 1000\n",
    "\n",
    "# Create a vector called 'X' that contains the outcomes of 1000 samples\n",
    "X <- sample(c(17,-1),1000,replace = TRUE, prob = c(p_green,p_not_green))\n",
    "\n",
    "# Assign the sum of all 1000 outcomes to the variable 'S'\n",
    "S <- sum(X)\n",
    "\n",
    "exp_sum <- n*(17*p_green + (-1)*p_not_green)\n",
    "sd_sum <- sqrt(n)*abs(17-(-1))*sqrt(p_green*p_not_green)"
   ]
  },
  {
   "cell_type": "markdown",
   "id": "7c7b8084",
   "metadata": {},
   "source": [
    "### 2. SAT testing"
   ]
  },
  {
   "cell_type": "markdown",
   "id": "ef4dd46d",
   "metadata": {},
   "source": [
    "An old version of the SAT college entrance exam had a $-0.25$ point penalty for every incorrect answer and awarded $1$ point for a correct answer. The quantitative test consisted of $44$ multiple-choice questions each with $5$ answer choices. Suppose a student chooses answers by guessing for all questions on the test."
   ]
  },
  {
   "cell_type": "markdown",
   "id": "d6202c22",
   "metadata": {},
   "source": [
    "Run a Monte Carlo simulation of 10,000 students guessing on the test. The probability that a guessing student scores 8 points or higher?"
   ]
  },
  {
   "cell_type": "code",
   "execution_count": 25,
   "id": "333000f2",
   "metadata": {},
   "outputs": [
    {
     "data": {
      "text/html": [
       "0.008"
      ],
      "text/latex": [
       "0.008"
      ],
      "text/markdown": [
       "0.008"
      ],
      "text/plain": [
       "[1] 0.008"
      ]
     },
     "metadata": {},
     "output_type": "display_data"
    }
   ],
   "source": [
    "set.seed(21)\n",
    "B <- 10000\n",
    "sat_simulation <- replicate(B,{\n",
    "    guessing <- sample(c(1,-0.25), 44, replace=TRUE, prob=c(0.2,0.8))\n",
    "    sum(guessing)\n",
    "})\n",
    "mean(sat_simulation>=8)"
   ]
  },
  {
   "cell_type": "markdown",
   "id": "af843205",
   "metadata": {},
   "source": [
    "The SAT was recently changed to reduce the number of multiple choice options from 5 to 4 and also to eliminate the penalty for guessing. "
   ]
  },
  {
   "cell_type": "markdown",
   "id": "2f66a371",
   "metadata": {},
   "source": [
    "Consider a range of correct answer probabilities $\\verb|p <- seq(0.25, 0.95, 0.05)|$ representing a range of student skills. The lowest $\\verb|p|$ such that the probability of scoring over 35 exceeds 80%?"
   ]
  },
  {
   "cell_type": "code",
   "execution_count": 40,
   "id": "c3c41611",
   "metadata": {},
   "outputs": [
    {
     "data": {
      "text/html": [
       "0.85"
      ],
      "text/latex": [
       "0.85"
      ],
      "text/markdown": [
       "0.85"
      ],
      "text/plain": [
       "[1] 0.85"
      ]
     },
     "metadata": {},
     "output_type": "display_data"
    }
   ],
   "source": [
    "library(BBmisc)\n",
    "p <- seq(0.25,0.95,0.05)\n",
    "scores <- sapply(p, function(p)qbinom(0.2,44,p))\n",
    "p[which.first(scores>=35)]"
   ]
  }
 ],
 "metadata": {
  "kernelspec": {
   "display_name": "R",
   "language": "R",
   "name": "ir"
  },
  "language_info": {
   "codemirror_mode": "r",
   "file_extension": ".r",
   "mimetype": "text/x-r-source",
   "name": "R",
   "pygments_lexer": "r",
   "version": "4.0.5"
  }
 },
 "nbformat": 4,
 "nbformat_minor": 5
}
